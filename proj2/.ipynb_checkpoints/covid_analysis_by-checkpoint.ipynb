{
 "cells": [
  {
   "cell_type": "code",
   "execution_count": 68,
   "metadata": {},
   "outputs": [],
   "source": [
    "# Pandas and numpy for data manipulation\n",
    "import pandas as pd\n",
    "import numpy as np\n",
    "np.random.seed(42)\n",
    "\n",
    "# Matplotlib and seaborn for plotting\n",
    "import matplotlib.pyplot as plt\n",
    "%matplotlib inline\n",
    "\n",
    "import matplotlib\n",
    "matplotlib.rcParams['font.size'] = 16\n",
    "matplotlib.rcParams['figure.figsize'] = (9, 9)\n",
    "\n",
    "from IPython.core.pylabtools import figsize\n",
    "\n",
    "# Scipy helper functions\n",
    "from scipy.stats import percentileofscore\n",
    "from scipy import stats\n",
    "\n",
    "# Metrics\n",
    "from sklearn.metrics import mean_squared_error, mean_absolute_error, median_absolute_error\n",
    "\n",
    "# Distributions\n",
    "import scipy\n",
    "\n",
    "# Splitting data into training/testing\n",
    "from sklearn.model_selection import train_test_split\n",
    "from sklearn.preprocessing import MinMaxScaler\n",
    "\n",
    "from sklearn.linear_model import BayesianRidge\n",
    "from sklearn.model_selection import RandomizedSearchCV\n",
    "\n",
    "# Seaborn for plotting\n",
    "import seaborn as sb\n",
    "\n",
    "from sklearn.model_selection import cross_val_score\n",
    "from sklearn.model_selection import KFold\n",
    "from sklearn.preprocessing import PolynomialFeatures\n"
   ]
  },
  {
   "cell_type": "markdown",
   "metadata": {},
   "source": [
    "### 3) Prediction and Regression"
   ]
  },
  {
   "cell_type": "markdown",
   "metadata": {},
   "source": [
    "#### 3.2) Bayesian linear regression"
   ]
  },
  {
   "cell_type": "code",
   "execution_count": 4,
   "metadata": {},
   "outputs": [
    {
     "data": {
      "text/html": [
       "<div>\n",
       "<style scoped>\n",
       "    .dataframe tbody tr th:only-of-type {\n",
       "        vertical-align: middle;\n",
       "    }\n",
       "\n",
       "    .dataframe tbody tr th {\n",
       "        vertical-align: top;\n",
       "    }\n",
       "\n",
       "    .dataframe thead th {\n",
       "        text-align: right;\n",
       "    }\n",
       "</style>\n",
       "<table border=\"1\" class=\"dataframe\">\n",
       "  <thead>\n",
       "    <tr style=\"text-align: right;\">\n",
       "      <th></th>\n",
       "      <th>Country/Region</th>\n",
       "      <th>Lat</th>\n",
       "      <th>Lat_norm</th>\n",
       "      <th>Long</th>\n",
       "      <th>Long_norm</th>\n",
       "      <th>Date</th>\n",
       "      <th>Num_days_from_begin</th>\n",
       "      <th>Num_days_from_begin_norm</th>\n",
       "      <th>Confirmed</th>\n",
       "      <th>Deaths</th>\n",
       "      <th>Recovered</th>\n",
       "    </tr>\n",
       "  </thead>\n",
       "  <tbody>\n",
       "    <tr>\n",
       "      <th>0</th>\n",
       "      <td>Afghanistan</td>\n",
       "      <td>33.000000</td>\n",
       "      <td>0.683333</td>\n",
       "      <td>65.000000</td>\n",
       "      <td>0.680556</td>\n",
       "      <td>2020-01-22</td>\n",
       "      <td>0</td>\n",
       "      <td>0.000000</td>\n",
       "      <td>0</td>\n",
       "      <td>0</td>\n",
       "      <td>0.0</td>\n",
       "    </tr>\n",
       "    <tr>\n",
       "      <th>1</th>\n",
       "      <td>Albania</td>\n",
       "      <td>41.153300</td>\n",
       "      <td>0.728629</td>\n",
       "      <td>20.168300</td>\n",
       "      <td>0.556023</td>\n",
       "      <td>2020-01-22</td>\n",
       "      <td>0</td>\n",
       "      <td>0.000000</td>\n",
       "      <td>0</td>\n",
       "      <td>0</td>\n",
       "      <td>0.0</td>\n",
       "    </tr>\n",
       "    <tr>\n",
       "      <th>2</th>\n",
       "      <td>Algeria</td>\n",
       "      <td>28.033900</td>\n",
       "      <td>0.655744</td>\n",
       "      <td>1.659600</td>\n",
       "      <td>0.504610</td>\n",
       "      <td>2020-01-22</td>\n",
       "      <td>0</td>\n",
       "      <td>0.000000</td>\n",
       "      <td>0</td>\n",
       "      <td>0</td>\n",
       "      <td>0.0</td>\n",
       "    </tr>\n",
       "    <tr>\n",
       "      <th>3</th>\n",
       "      <td>Andorra</td>\n",
       "      <td>42.506300</td>\n",
       "      <td>0.736146</td>\n",
       "      <td>1.521800</td>\n",
       "      <td>0.504227</td>\n",
       "      <td>2020-01-22</td>\n",
       "      <td>0</td>\n",
       "      <td>0.000000</td>\n",
       "      <td>0</td>\n",
       "      <td>0</td>\n",
       "      <td>0.0</td>\n",
       "    </tr>\n",
       "    <tr>\n",
       "      <th>4</th>\n",
       "      <td>Angola</td>\n",
       "      <td>-11.202700</td>\n",
       "      <td>0.437763</td>\n",
       "      <td>17.873900</td>\n",
       "      <td>0.549650</td>\n",
       "      <td>2020-01-22</td>\n",
       "      <td>0</td>\n",
       "      <td>0.000000</td>\n",
       "      <td>0</td>\n",
       "      <td>0</td>\n",
       "      <td>0.0</td>\n",
       "    </tr>\n",
       "    <tr>\n",
       "      <th>...</th>\n",
       "      <td>...</td>\n",
       "      <td>...</td>\n",
       "      <td>...</td>\n",
       "      <td>...</td>\n",
       "      <td>...</td>\n",
       "      <td>...</td>\n",
       "      <td>...</td>\n",
       "      <td>...</td>\n",
       "      <td>...</td>\n",
       "      <td>...</td>\n",
       "      <td>...</td>\n",
       "    </tr>\n",
       "    <tr>\n",
       "      <th>22679</th>\n",
       "      <td>West Bank and Gaza</td>\n",
       "      <td>31.952200</td>\n",
       "      <td>0.677512</td>\n",
       "      <td>35.233200</td>\n",
       "      <td>0.597870</td>\n",
       "      <td>2020-05-07</td>\n",
       "      <td>106</td>\n",
       "      <td>0.990654</td>\n",
       "      <td>375</td>\n",
       "      <td>2</td>\n",
       "      <td>176.0</td>\n",
       "    </tr>\n",
       "    <tr>\n",
       "      <th>22680</th>\n",
       "      <td>Western Sahara</td>\n",
       "      <td>24.215500</td>\n",
       "      <td>0.634531</td>\n",
       "      <td>-12.885800</td>\n",
       "      <td>0.464206</td>\n",
       "      <td>2020-05-07</td>\n",
       "      <td>106</td>\n",
       "      <td>0.990654</td>\n",
       "      <td>6</td>\n",
       "      <td>0</td>\n",
       "      <td>5.0</td>\n",
       "    </tr>\n",
       "    <tr>\n",
       "      <th>22681</th>\n",
       "      <td>Yemen</td>\n",
       "      <td>15.552727</td>\n",
       "      <td>0.586404</td>\n",
       "      <td>48.516388</td>\n",
       "      <td>0.634768</td>\n",
       "      <td>2020-05-07</td>\n",
       "      <td>106</td>\n",
       "      <td>0.990654</td>\n",
       "      <td>25</td>\n",
       "      <td>5</td>\n",
       "      <td>1.0</td>\n",
       "    </tr>\n",
       "    <tr>\n",
       "      <th>22682</th>\n",
       "      <td>Zambia</td>\n",
       "      <td>-15.416700</td>\n",
       "      <td>0.414352</td>\n",
       "      <td>28.283300</td>\n",
       "      <td>0.578565</td>\n",
       "      <td>2020-05-07</td>\n",
       "      <td>106</td>\n",
       "      <td>0.990654</td>\n",
       "      <td>153</td>\n",
       "      <td>4</td>\n",
       "      <td>103.0</td>\n",
       "    </tr>\n",
       "    <tr>\n",
       "      <th>22683</th>\n",
       "      <td>Zimbabwe</td>\n",
       "      <td>-20.000000</td>\n",
       "      <td>0.388889</td>\n",
       "      <td>30.000000</td>\n",
       "      <td>0.583333</td>\n",
       "      <td>2020-05-07</td>\n",
       "      <td>106</td>\n",
       "      <td>0.990654</td>\n",
       "      <td>34</td>\n",
       "      <td>4</td>\n",
       "      <td>5.0</td>\n",
       "    </tr>\n",
       "  </tbody>\n",
       "</table>\n",
       "<p>22684 rows × 11 columns</p>\n",
       "</div>"
      ],
      "text/plain": [
       "           Country/Region        Lat  Lat_norm       Long  Long_norm  \\\n",
       "0             Afghanistan  33.000000  0.683333  65.000000   0.680556   \n",
       "1                 Albania  41.153300  0.728629  20.168300   0.556023   \n",
       "2                 Algeria  28.033900  0.655744   1.659600   0.504610   \n",
       "3                 Andorra  42.506300  0.736146   1.521800   0.504227   \n",
       "4                  Angola -11.202700  0.437763  17.873900   0.549650   \n",
       "...                   ...        ...       ...        ...        ...   \n",
       "22679  West Bank and Gaza  31.952200  0.677512  35.233200   0.597870   \n",
       "22680      Western Sahara  24.215500  0.634531 -12.885800   0.464206   \n",
       "22681               Yemen  15.552727  0.586404  48.516388   0.634768   \n",
       "22682              Zambia -15.416700  0.414352  28.283300   0.578565   \n",
       "22683            Zimbabwe -20.000000  0.388889  30.000000   0.583333   \n",
       "\n",
       "             Date  Num_days_from_begin  Num_days_from_begin_norm  Confirmed  \\\n",
       "0      2020-01-22                    0                  0.000000          0   \n",
       "1      2020-01-22                    0                  0.000000          0   \n",
       "2      2020-01-22                    0                  0.000000          0   \n",
       "3      2020-01-22                    0                  0.000000          0   \n",
       "4      2020-01-22                    0                  0.000000          0   \n",
       "...           ...                  ...                       ...        ...   \n",
       "22679  2020-05-07                  106                  0.990654        375   \n",
       "22680  2020-05-07                  106                  0.990654          6   \n",
       "22681  2020-05-07                  106                  0.990654         25   \n",
       "22682  2020-05-07                  106                  0.990654        153   \n",
       "22683  2020-05-07                  106                  0.990654         34   \n",
       "\n",
       "       Deaths  Recovered  \n",
       "0           0        0.0  \n",
       "1           0        0.0  \n",
       "2           0        0.0  \n",
       "3           0        0.0  \n",
       "4           0        0.0  \n",
       "...       ...        ...  \n",
       "22679       2      176.0  \n",
       "22680       0        5.0  \n",
       "22681       5        1.0  \n",
       "22682       4      103.0  \n",
       "22683       4        5.0  \n",
       "\n",
       "[22684 rows x 11 columns]"
      ]
     },
     "execution_count": 4,
     "metadata": {},
     "output_type": "execute_result"
    }
   ],
   "source": [
    "# load previously processed information into dataframe\n",
    "df = pd.read_csv('data/covid_19_world_processed.csv', delimiter=',')\n",
    "df"
   ]
  },
  {
   "cell_type": "code",
   "execution_count": 5,
   "metadata": {},
   "outputs": [
    {
     "data": {
      "text/plain": [
       "(33.0, 65.0)"
      ]
     },
     "execution_count": 5,
     "metadata": {},
     "output_type": "execute_result"
    }
   ],
   "source": [
    "# define helper functions\n",
    "def get_coords_for_country(country):\n",
    "    country_row = df.loc[df[\"Country/Region\"] == country]\n",
    "    return country_row[\"Lat\"].unique()[0], country_row[\"Long\"].unique()[0]\n",
    "\n",
    "get_coords_for_country(\"Afghanistan\")"
   ]
  },
  {
   "cell_type": "code",
   "execution_count": 32,
   "metadata": {},
   "outputs": [
    {
     "data": {
      "text/html": [
       "<div>\n",
       "<style scoped>\n",
       "    .dataframe tbody tr th:only-of-type {\n",
       "        vertical-align: middle;\n",
       "    }\n",
       "\n",
       "    .dataframe tbody tr th {\n",
       "        vertical-align: top;\n",
       "    }\n",
       "\n",
       "    .dataframe thead th {\n",
       "        text-align: right;\n",
       "    }\n",
       "</style>\n",
       "<table border=\"1\" class=\"dataframe\">\n",
       "  <thead>\n",
       "    <tr style=\"text-align: right;\">\n",
       "      <th></th>\n",
       "      <th>Lat_norm</th>\n",
       "      <th>Long_norm</th>\n",
       "      <th>Num_days_from_begin_norm</th>\n",
       "    </tr>\n",
       "  </thead>\n",
       "  <tbody>\n",
       "    <tr>\n",
       "      <th>0</th>\n",
       "      <td>0.683333</td>\n",
       "      <td>0.680556</td>\n",
       "      <td>0.000000</td>\n",
       "    </tr>\n",
       "    <tr>\n",
       "      <th>1</th>\n",
       "      <td>0.728629</td>\n",
       "      <td>0.556023</td>\n",
       "      <td>0.000000</td>\n",
       "    </tr>\n",
       "    <tr>\n",
       "      <th>2</th>\n",
       "      <td>0.655744</td>\n",
       "      <td>0.504610</td>\n",
       "      <td>0.000000</td>\n",
       "    </tr>\n",
       "    <tr>\n",
       "      <th>3</th>\n",
       "      <td>0.736146</td>\n",
       "      <td>0.504227</td>\n",
       "      <td>0.000000</td>\n",
       "    </tr>\n",
       "    <tr>\n",
       "      <th>4</th>\n",
       "      <td>0.437763</td>\n",
       "      <td>0.549650</td>\n",
       "      <td>0.000000</td>\n",
       "    </tr>\n",
       "    <tr>\n",
       "      <th>...</th>\n",
       "      <td>...</td>\n",
       "      <td>...</td>\n",
       "      <td>...</td>\n",
       "    </tr>\n",
       "    <tr>\n",
       "      <th>22679</th>\n",
       "      <td>0.677512</td>\n",
       "      <td>0.597870</td>\n",
       "      <td>0.990654</td>\n",
       "    </tr>\n",
       "    <tr>\n",
       "      <th>22680</th>\n",
       "      <td>0.634531</td>\n",
       "      <td>0.464206</td>\n",
       "      <td>0.990654</td>\n",
       "    </tr>\n",
       "    <tr>\n",
       "      <th>22681</th>\n",
       "      <td>0.586404</td>\n",
       "      <td>0.634768</td>\n",
       "      <td>0.990654</td>\n",
       "    </tr>\n",
       "    <tr>\n",
       "      <th>22682</th>\n",
       "      <td>0.414352</td>\n",
       "      <td>0.578565</td>\n",
       "      <td>0.990654</td>\n",
       "    </tr>\n",
       "    <tr>\n",
       "      <th>22683</th>\n",
       "      <td>0.388889</td>\n",
       "      <td>0.583333</td>\n",
       "      <td>0.990654</td>\n",
       "    </tr>\n",
       "  </tbody>\n",
       "</table>\n",
       "<p>22684 rows × 3 columns</p>\n",
       "</div>"
      ],
      "text/plain": [
       "       Lat_norm  Long_norm  Num_days_from_begin_norm\n",
       "0      0.683333   0.680556                  0.000000\n",
       "1      0.728629   0.556023                  0.000000\n",
       "2      0.655744   0.504610                  0.000000\n",
       "3      0.736146   0.504227                  0.000000\n",
       "4      0.437763   0.549650                  0.000000\n",
       "...         ...        ...                       ...\n",
       "22679  0.677512   0.597870                  0.990654\n",
       "22680  0.634531   0.464206                  0.990654\n",
       "22681  0.586404   0.634768                  0.990654\n",
       "22682  0.414352   0.578565                  0.990654\n",
       "22683  0.388889   0.583333                  0.990654\n",
       "\n",
       "[22684 rows x 3 columns]"
      ]
     },
     "execution_count": 32,
     "metadata": {},
     "output_type": "execute_result"
    }
   ],
   "source": [
    "# get the inputs of the data for the machine learning algorithm\n",
    "inputs = df[[\"Lat_norm\", \"Long_norm\", \"Num_days_from_begin_norm\"]]\n",
    "inputs"
   ]
  },
  {
   "cell_type": "code",
   "execution_count": 33,
   "metadata": {},
   "outputs": [
    {
     "data": {
      "text/plain": [
       "0          0\n",
       "1          0\n",
       "2          0\n",
       "3          0\n",
       "4          0\n",
       "        ... \n",
       "22679    375\n",
       "22680      6\n",
       "22681     25\n",
       "22682    153\n",
       "22683     34\n",
       "Name: Confirmed, Length: 22684, dtype: int64"
      ]
     },
     "execution_count": 33,
     "metadata": {},
     "output_type": "execute_result"
    }
   ],
   "source": [
    "# get the output for the machine learning algorithm (confirmed cases)\n",
    "outputs = df[\"Confirmed\"]\n",
    "outputs"
   ]
  },
  {
   "cell_type": "code",
   "execution_count": 35,
   "metadata": {},
   "outputs": [],
   "source": [
    "# split the data into training and testing sets\n",
    "in_conf_train, in_conf_test, out_conf_train, out_conf_test = train_test_split(inputs, outputs, test_size=0.25, random_state=42, shuffle=False)\n",
    "\n",
    "# NOTE: actually, the \"testing\" set will be used for \"manual\" testing and plotting, while the training set will be\n",
    "# further divided in training and testing sets, in order to perform k-fold cross validation."
   ]
  },
  {
   "cell_type": "markdown",
   "metadata": {},
   "source": [
    "### Pairs Plot of selected variables"
   ]
  },
  {
   "cell_type": "code",
   "execution_count": 65,
   "metadata": {},
   "outputs": [
    {
     "data": {
      "text/plain": [
       "{'alpha_1': 1e-06,\n",
       " 'alpha_2': 1e-06,\n",
       " 'alpha_init': None,\n",
       " 'compute_score': False,\n",
       " 'copy_X': True,\n",
       " 'fit_intercept': False,\n",
       " 'lambda_1': 1e-06,\n",
       " 'lambda_2': 1e-06,\n",
       " 'lambda_init': None,\n",
       " 'n_iter': 300,\n",
       " 'normalize': False,\n",
       " 'tol': 0.001,\n",
       " 'verbose': False}"
      ]
     },
     "execution_count": 65,
     "metadata": {},
     "output_type": "execute_result"
    }
   ],
   "source": [
    "bay = BayesianRidge(fit_intercept=False)\n",
    "bay.get_params()"
   ]
  },
  {
   "cell_type": "code",
   "execution_count": 69,
   "metadata": {},
   "outputs": [],
   "source": [
    "bayesian_poly = PolynomialFeatures(degree=4)\n",
    "bayesian_poly_in_conf_train = bayesian_poly.fit_transform(in_conf_train)\n",
    "bayesian_poly_in_conf_test = bayesian_poly.fit_transform(in_conf_test)"
   ]
  },
  {
   "cell_type": "code",
   "execution_count": 70,
   "metadata": {},
   "outputs": [
    {
     "name": "stdout",
     "output_type": "stream",
     "text": [
      "Fitting 3 folds for each of 6250 candidates, totalling 18750 fits\n"
     ]
    },
    {
     "name": "stderr",
     "output_type": "stream",
     "text": [
      "[Parallel(n_jobs=-1)]: Using backend LokyBackend with 4 concurrent workers.\n",
      "[Parallel(n_jobs=-1)]: Done  33 tasks      | elapsed:    8.2s\n",
      "[Parallel(n_jobs=-1)]: Done 154 tasks      | elapsed:   31.0s\n",
      "[Parallel(n_jobs=-1)]: Done 357 tasks      | elapsed:  1.3min\n",
      "[Parallel(n_jobs=-1)]: Done 640 tasks      | elapsed:  2.2min\n",
      "[Parallel(n_jobs=-1)]: Done 1005 tasks      | elapsed:  3.4min\n",
      "[Parallel(n_jobs=-1)]: Done 1450 tasks      | elapsed:  4.9min\n",
      "[Parallel(n_jobs=-1)]: Done 1977 tasks      | elapsed:  6.6min\n",
      "[Parallel(n_jobs=-1)]: Done 2584 tasks      | elapsed:  8.6min\n",
      "[Parallel(n_jobs=-1)]: Done 3273 tasks      | elapsed: 11.5min\n",
      "[Parallel(n_jobs=-1)]: Done 4042 tasks      | elapsed: 17.0min\n",
      "[Parallel(n_jobs=-1)]: Done 4893 tasks      | elapsed: 24.6min\n",
      "[Parallel(n_jobs=-1)]: Done 5824 tasks      | elapsed: 32.6min\n",
      "[Parallel(n_jobs=-1)]: Done 6837 tasks      | elapsed: 41.5min\n",
      "[Parallel(n_jobs=-1)]: Done 7930 tasks      | elapsed: 53.3min\n",
      "[Parallel(n_jobs=-1)]: Done 9105 tasks      | elapsed: 62.9min\n",
      "[Parallel(n_jobs=-1)]: Done 10360 tasks      | elapsed: 72.7min\n",
      "[Parallel(n_jobs=-1)]: Done 11697 tasks      | elapsed: 77.6min\n",
      "[Parallel(n_jobs=-1)]: Done 13114 tasks      | elapsed: 82.6min\n",
      "[Parallel(n_jobs=-1)]: Done 14613 tasks      | elapsed: 87.9min\n",
      "[Parallel(n_jobs=-1)]: Done 16192 tasks      | elapsed: 93.0min\n",
      "[Parallel(n_jobs=-1)]: Done 17853 tasks      | elapsed: 98.3min\n",
      "[Parallel(n_jobs=-1)]: Done 18750 out of 18750 | elapsed: 101.5min finished\n"
     ]
    },
    {
     "name": "stdout",
     "output_type": "stream",
     "text": [
      "Best score: -993177.0967186805\n",
      "Best parameters: {'alpha_1': 1e-06, 'alpha_2': 0.001, 'lambda_1': 0.001, 'lambda_2': 1e-05, 'normalize': True, 'tol': 1e-06}\n"
     ]
    },
    {
     "data": {
      "text/plain": [
       "BayesianRidge(alpha_1=1e-06, alpha_2=0.001, alpha_init=None,\n",
       "              compute_score=False, copy_X=True, fit_intercept=False,\n",
       "              lambda_1=0.001, lambda_2=1e-05, lambda_init=None, n_iter=300,\n",
       "              normalize=True, tol=1e-06, verbose=False)"
      ]
     },
     "execution_count": 70,
     "metadata": {},
     "output_type": "execute_result"
    }
   ],
   "source": [
    "# do hyper parameter tuning with the Random Forest, using cross validation\n",
    "param_grid = {\n",
    "    'tol': [1e-6, 1e-5, 1e-4, 1e-3, 1e-2], \n",
    "    'alpha_1': [1e-7, 1e-6, 1e-5, 1e-4, 1e-3], \n",
    "    'alpha_2' : [1e-7, 1e-6, 1e-5, 1e-4, 1e-3], \n",
    "    'lambda_1': [1e-7, 1e-6, 1e-5, 1e-4, 1e-3], \n",
    "    'lambda_2' : [1e-7, 1e-6, 1e-5, 1e-4, 1e-3], \n",
    "     'normalize' : [True, False]\n",
    "}\n",
    "\n",
    "grid_search = GridSearchCV(estimator=bay, param_grid=param_grid, cv=3, n_jobs=-1, verbose=2)\n",
    "\n",
    "\n",
    "grid_search.fit(bayesian_poly_in_conf_train, out_conf_train)\n",
    "print('Best score: {}'.format(grid_search.best_score_))\n",
    "print('Best parameters: {}'.format(grid_search.best_params_))\n",
    "grid_search.best_estimator_\n",
    "\n",
    "\n",
    "\n"
   ]
  },
  {
   "cell_type": "code",
   "execution_count": 71,
   "metadata": {},
   "outputs": [
    {
     "name": "stdout",
     "output_type": "stream",
     "text": [
      "MAE: 13548.094426654496\n",
      "MSE: 4840551113.319339\n"
     ]
    },
    {
     "data": {
      "image/png": "[encoded data removed]",
      "text/plain": [
       "<Figure size 648x648 with 1 Axes>"
      ]
     },
     "metadata": {
      "needs_background": "light"
     },
     "output_type": "display_data"
    }
   ],
   "source": [
    "bay_estimator = grid_search.best_estimator_\n",
    "bay_estimator_pred = bay_estimator.predict(bayesian_poly_in_conf_test)\n",
    "plt.plot(out_conf_test)\n",
    "plt.plot(bay_estimator_pred)\n",
    "plt.legend(['Test Data', 'Bayesian Predictions'])\n",
    "print('MAE:', mean_absolute_error(out_conf_test, bay_estimator_pred))\n",
    "print('MSE:',mean_squared_error(out_conf_test, bay_estimator_pred))"
   ]
  },
  {
   "cell_type": "code",
   "execution_count": 76,
   "metadata": {},
   "outputs": [
    {
     "data": {
      "text/plain": [
       "<matplotlib.legend.Legend at 0x29cbe546dc8>"
      ]
     },
     "execution_count": 76,
     "metadata": {},
     "output_type": "execute_result"
    },
    {
     "data": {
      "image/png": "[encoded data removed]",
      "text/plain": [
       "<Figure size 648x648 with 1 Axes>"
      ]
     },
     "metadata": {
      "needs_background": "light"
     },
     "output_type": "display_data"
    }
   ],
   "source": [
    "usa_df = df.loc[df[\"Country/Region\"] == \"US\"]\n",
    "usa_inputs = usa_df[[\"Lat_norm\", \"Long_norm\", \"Num_days_from_begin_norm\"]].values\n",
    "usa_outputs = usa_df[\"Confirmed\"].values\n",
    "days_list = df[\"Num_days_from_begin\"].unique()\n",
    "bayesian_poly_usa_inputs = bayesian_poly.fit_transform(usa_inputs)\n",
    "usa_pred_output = bay_estimator.predict(bayesian_poly_usa_inputs)\n",
    "\n",
    "first_day = df[\"Date\"].min()\n",
    "last_day = df[\"Date\"].max()\n",
    "plt.plot(days_list, usa_outputs, color='blue', label=\"Actual Confirmed Cases\")\n",
    "plt.plot(days_list, usa_pred_output, color='green', label=\"Predicted (Random Forest)\")\n",
    "plt.xlabel(\"Number of days since {}\".format(first_day))\n",
    "plt.ylabel(\"# of Cases\")\n",
    "plt.title(\"USA Confirmed Cases vs Prediction from  Bayesian regression (as of {})\".format(last_day))\n",
    "plt.legend()"
   ]
  },
  {
   "cell_type": "code",
   "execution_count": null,
   "metadata": {},
   "outputs": [],
   "source": []
  }
 ],
 "metadata": {
  "kernelspec": {
   "display_name": "Python 3",
   "language": "python",
   "name": "python3"
  },
  "language_info": {
   "codemirror_mode": {
    "name": "ipython",
    "version": 3
   },
   "file_extension": ".py",
   "mimetype": "text/x-python",
   "name": "python",
   "nbconvert_exporter": "python",
   "pygments_lexer": "ipython3",
   "version": "3.7.6"
  }
 },
 "nbformat": 4,
 "nbformat_minor": 4
}

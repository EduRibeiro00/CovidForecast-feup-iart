{
 "cells": [
  {
   "cell_type": "code",
   "execution_count": 1,
   "metadata": {},
   "outputs": [],
   "source": [
    "%matplotlib inline\n",
    "\n",
    "import numpy as np\n",
    "import matplotlib.pyplot as plt\n",
    "import matplotlib.colors as mcolors\n",
    "import seaborn as sb\n",
    "import pandas as pd\n",
    "from sklearn.model_selection import GridSearchCV, train_test_split\n",
    "from sklearn.svm import SVR\n",
    "from sklearn.metrics import mean_squared_error, mean_absolute_error"
   ]
  },
  {
   "cell_type": "markdown",
   "metadata": {},
   "source": [
    "#### 3.3) Support Vector Machines\n",
    "- - -"
   ]
  },
  {
   "cell_type": "code",
   "execution_count": 2,
   "metadata": {},
   "outputs": [
    {
     "data": {
      "text/html": [
       "<div>\n",
       "<style scoped>\n",
       "    .dataframe tbody tr th:only-of-type {\n",
       "        vertical-align: middle;\n",
       "    }\n",
       "\n",
       "    .dataframe tbody tr th {\n",
       "        vertical-align: top;\n",
       "    }\n",
       "\n",
       "    .dataframe thead th {\n",
       "        text-align: right;\n",
       "    }\n",
       "</style>\n",
       "<table border=\"1\" class=\"dataframe\">\n",
       "  <thead>\n",
       "    <tr style=\"text-align: right;\">\n",
       "      <th></th>\n",
       "      <th>Country/Region</th>\n",
       "      <th>Lat</th>\n",
       "      <th>Lat_norm</th>\n",
       "      <th>Long</th>\n",
       "      <th>Long_norm</th>\n",
       "      <th>Date</th>\n",
       "      <th>Num_days_from_begin</th>\n",
       "      <th>Num_days_from_begin_norm</th>\n",
       "      <th>Confirmed</th>\n",
       "      <th>Deaths</th>\n",
       "      <th>Recovered</th>\n",
       "    </tr>\n",
       "  </thead>\n",
       "  <tbody>\n",
       "    <tr>\n",
       "      <th>0</th>\n",
       "      <td>Afghanistan</td>\n",
       "      <td>33.000000</td>\n",
       "      <td>0.373184</td>\n",
       "      <td>65.000000</td>\n",
       "      <td>0.232525</td>\n",
       "      <td>2020-01-22</td>\n",
       "      <td>0</td>\n",
       "      <td>0.000000</td>\n",
       "      <td>0</td>\n",
       "      <td>0</td>\n",
       "      <td>0.0</td>\n",
       "    </tr>\n",
       "    <tr>\n",
       "      <th>1</th>\n",
       "      <td>Albania</td>\n",
       "      <td>41.153300</td>\n",
       "      <td>0.505218</td>\n",
       "      <td>20.168300</td>\n",
       "      <td>-0.071789</td>\n",
       "      <td>2020-01-22</td>\n",
       "      <td>0</td>\n",
       "      <td>0.000000</td>\n",
       "      <td>0</td>\n",
       "      <td>0</td>\n",
       "      <td>0.0</td>\n",
       "    </tr>\n",
       "    <tr>\n",
       "      <th>2</th>\n",
       "      <td>Algeria</td>\n",
       "      <td>28.033900</td>\n",
       "      <td>0.292763</td>\n",
       "      <td>1.659600</td>\n",
       "      <td>-0.197424</td>\n",
       "      <td>2020-01-22</td>\n",
       "      <td>0</td>\n",
       "      <td>0.000000</td>\n",
       "      <td>0</td>\n",
       "      <td>0</td>\n",
       "      <td>0.0</td>\n",
       "    </tr>\n",
       "    <tr>\n",
       "      <th>3</th>\n",
       "      <td>Andorra</td>\n",
       "      <td>42.506300</td>\n",
       "      <td>0.527128</td>\n",
       "      <td>1.521800</td>\n",
       "      <td>-0.198359</td>\n",
       "      <td>2020-01-22</td>\n",
       "      <td>0</td>\n",
       "      <td>0.000000</td>\n",
       "      <td>0</td>\n",
       "      <td>0</td>\n",
       "      <td>0.0</td>\n",
       "    </tr>\n",
       "    <tr>\n",
       "      <th>4</th>\n",
       "      <td>Angola</td>\n",
       "      <td>-11.202700</td>\n",
       "      <td>-0.342631</td>\n",
       "      <td>17.873900</td>\n",
       "      <td>-0.087363</td>\n",
       "      <td>2020-01-22</td>\n",
       "      <td>0</td>\n",
       "      <td>0.000000</td>\n",
       "      <td>0</td>\n",
       "      <td>0</td>\n",
       "      <td>0.0</td>\n",
       "    </tr>\n",
       "    <tr>\n",
       "      <th>...</th>\n",
       "      <td>...</td>\n",
       "      <td>...</td>\n",
       "      <td>...</td>\n",
       "      <td>...</td>\n",
       "      <td>...</td>\n",
       "      <td>...</td>\n",
       "      <td>...</td>\n",
       "      <td>...</td>\n",
       "      <td>...</td>\n",
       "      <td>...</td>\n",
       "      <td>...</td>\n",
       "    </tr>\n",
       "    <tr>\n",
       "      <th>22679</th>\n",
       "      <td>West Bank and Gaza</td>\n",
       "      <td>31.952200</td>\n",
       "      <td>0.356216</td>\n",
       "      <td>35.233200</td>\n",
       "      <td>0.030471</td>\n",
       "      <td>2020-05-07</td>\n",
       "      <td>106</td>\n",
       "      <td>0.990654</td>\n",
       "      <td>375</td>\n",
       "      <td>2</td>\n",
       "      <td>176.0</td>\n",
       "    </tr>\n",
       "    <tr>\n",
       "      <th>22680</th>\n",
       "      <td>Western Sahara</td>\n",
       "      <td>24.215500</td>\n",
       "      <td>0.230928</td>\n",
       "      <td>-12.885800</td>\n",
       "      <td>-0.296157</td>\n",
       "      <td>2020-05-07</td>\n",
       "      <td>106</td>\n",
       "      <td>0.990654</td>\n",
       "      <td>6</td>\n",
       "      <td>0</td>\n",
       "      <td>5.0</td>\n",
       "    </tr>\n",
       "    <tr>\n",
       "      <th>22681</th>\n",
       "      <td>Yemen</td>\n",
       "      <td>15.552727</td>\n",
       "      <td>0.090644</td>\n",
       "      <td>48.516388</td>\n",
       "      <td>0.120636</td>\n",
       "      <td>2020-05-07</td>\n",
       "      <td>106</td>\n",
       "      <td>0.990654</td>\n",
       "      <td>25</td>\n",
       "      <td>5</td>\n",
       "      <td>1.0</td>\n",
       "    </tr>\n",
       "    <tr>\n",
       "      <th>22682</th>\n",
       "      <td>Zambia</td>\n",
       "      <td>-15.416700</td>\n",
       "      <td>-0.410872</td>\n",
       "      <td>28.283300</td>\n",
       "      <td>-0.016705</td>\n",
       "      <td>2020-05-07</td>\n",
       "      <td>106</td>\n",
       "      <td>0.990654</td>\n",
       "      <td>153</td>\n",
       "      <td>4</td>\n",
       "      <td>103.0</td>\n",
       "    </tr>\n",
       "    <tr>\n",
       "      <th>22683</th>\n",
       "      <td>Zimbabwe</td>\n",
       "      <td>-20.000000</td>\n",
       "      <td>-0.485094</td>\n",
       "      <td>30.000000</td>\n",
       "      <td>-0.005052</td>\n",
       "      <td>2020-05-07</td>\n",
       "      <td>106</td>\n",
       "      <td>0.990654</td>\n",
       "      <td>34</td>\n",
       "      <td>4</td>\n",
       "      <td>5.0</td>\n",
       "    </tr>\n",
       "  </tbody>\n",
       "</table>\n",
       "<p>22684 rows × 11 columns</p>\n",
       "</div>"
      ],
      "text/plain": [
       "           Country/Region        Lat  Lat_norm       Long  Long_norm  \\\n",
       "0             Afghanistan  33.000000  0.373184  65.000000   0.232525   \n",
       "1                 Albania  41.153300  0.505218  20.168300  -0.071789   \n",
       "2                 Algeria  28.033900  0.292763   1.659600  -0.197424   \n",
       "3                 Andorra  42.506300  0.527128   1.521800  -0.198359   \n",
       "4                  Angola -11.202700 -0.342631  17.873900  -0.087363   \n",
       "...                   ...        ...       ...        ...        ...   \n",
       "22679  West Bank and Gaza  31.952200  0.356216  35.233200   0.030471   \n",
       "22680      Western Sahara  24.215500  0.230928 -12.885800  -0.296157   \n",
       "22681               Yemen  15.552727  0.090644  48.516388   0.120636   \n",
       "22682              Zambia -15.416700 -0.410872  28.283300  -0.016705   \n",
       "22683            Zimbabwe -20.000000 -0.485094  30.000000  -0.005052   \n",
       "\n",
       "             Date  Num_days_from_begin  Num_days_from_begin_norm  Confirmed  \\\n",
       "0      2020-01-22                    0                  0.000000          0   \n",
       "1      2020-01-22                    0                  0.000000          0   \n",
       "2      2020-01-22                    0                  0.000000          0   \n",
       "3      2020-01-22                    0                  0.000000          0   \n",
       "4      2020-01-22                    0                  0.000000          0   \n",
       "...           ...                  ...                       ...        ...   \n",
       "22679  2020-05-07                  106                  0.990654        375   \n",
       "22680  2020-05-07                  106                  0.990654          6   \n",
       "22681  2020-05-07                  106                  0.990654         25   \n",
       "22682  2020-05-07                  106                  0.990654        153   \n",
       "22683  2020-05-07                  106                  0.990654         34   \n",
       "\n",
       "       Deaths  Recovered  \n",
       "0           0        0.0  \n",
       "1           0        0.0  \n",
       "2           0        0.0  \n",
       "3           0        0.0  \n",
       "4           0        0.0  \n",
       "...       ...        ...  \n",
       "22679       2      176.0  \n",
       "22680       0        5.0  \n",
       "22681       5        1.0  \n",
       "22682       4      103.0  \n",
       "22683       4        5.0  \n",
       "\n",
       "[22684 rows x 11 columns]"
      ]
     },
     "execution_count": 2,
     "metadata": {},
     "output_type": "execute_result"
    }
   ],
   "source": [
    "# load previously processed information into dataframe\n",
    "df = pd.read_csv('data/covid_19_world_processed.csv', delimiter=',')\n",
    "df"
   ]
  },
  {
   "cell_type": "code",
   "execution_count": 3,
   "metadata": {},
   "outputs": [
    {
     "data": {
      "text/plain": [
       "(33.0, 65.0)"
      ]
     },
     "execution_count": 3,
     "metadata": {},
     "output_type": "execute_result"
    }
   ],
   "source": [
    "# define helper functions\n",
    "def get_coords_for_country(country):\n",
    "    country_row = df.loc[df[\"Country/Region\"] == country]\n",
    "    return country_row[\"Lat\"].unique()[0], country_row[\"Long\"].unique()[0]\n",
    "\n",
    "get_coords_for_country(\"Afghanistan\")"
   ]
  },
  {
   "cell_type": "code",
   "execution_count": 4,
   "metadata": {},
   "outputs": [
    {
     "data": {
      "text/plain": [
       "array([[ 0.37318385,  0.23252495,  0.        ],\n",
       "       [ 0.50521768, -0.0717886 ,  0.        ],\n",
       "       [ 0.29276326, -0.19742399,  0.        ],\n",
       "       ...,\n",
       "       [ 0.09064424,  0.12063567,  0.990654  ],\n",
       "       [-0.41087195, -0.01670471,  0.990654  ],\n",
       "       [-0.4850935 , -0.0050519 ,  0.990654  ]])"
      ]
     },
     "execution_count": 4,
     "metadata": {},
     "output_type": "execute_result"
    }
   ],
   "source": [
    "# get the inputs of the data for the machine learning algorithm\n",
    "inputs = df[[\"Lat_norm\", \"Long_norm\", \"Num_days_from_begin_norm\"]].values\n",
    "inputs"
   ]
  },
  {
   "cell_type": "markdown",
   "metadata": {},
   "source": [
    "#### 3.1.1) Regression for Confirmed Cases\n",
    "- - -"
   ]
  },
  {
   "cell_type": "code",
   "execution_count": 5,
   "metadata": {},
   "outputs": [
    {
     "data": {
      "text/plain": [
       "array([  0,   0,   0, ...,  25, 153,  34])"
      ]
     },
     "execution_count": 5,
     "metadata": {},
     "output_type": "execute_result"
    }
   ],
   "source": [
    "# get the output for the machine learning algorithm (confirmed cases)\n",
    "outputs = df[\"Confirmed\"].values\n",
    "outputs"
   ]
  },
  {
   "cell_type": "code",
   "execution_count": 6,
   "metadata": {},
   "outputs": [
    {
     "name": "stdout",
     "output_type": "stream",
     "text": [
      "False\n",
      "True\n",
      "False\n",
      "\n",
      "False\n",
      "True\n",
      "False\n"
     ]
    }
   ],
   "source": [
    "# split the data into training and testing sets\n",
    "in_conf_train, in_conf_test, out_conf_train, out_conf_test = train_test_split(inputs, outputs, test_size=0.25, shuffle=False)\n",
    "\n",
    "print(np.any(np.isnan(in_conf_train)))\n",
    "print(np.all(np.isfinite(in_conf_train)))\n",
    "print(np.any(in_conf_train >= np.finfo(np.float64).max))\n",
    "print()\n",
    "print(np.any(np.isnan(out_conf_train)))\n",
    "print(np.all(np.isfinite(out_conf_train)))\n",
    "print(np.any(out_conf_train >= np.finfo(np.float64).max))\n",
    "\n",
    "# NOTE: actually, the \"testing\" set will be used for \"manual\" testing and plotting, while the training set will be\n",
    "# further divided in training and testing sets, in order to perform k-fold cross validation."
   ]
  },
  {
   "cell_type": "code",
   "execution_count": 7,
   "metadata": {},
   "outputs": [
    {
     "data": {
      "text/plain": [
       "{'C': 1.0,\n",
       " 'cache_size': 200,\n",
       " 'coef0': 0.0,\n",
       " 'degree': 3,\n",
       " 'epsilon': 0.1,\n",
       " 'gamma': 'scale',\n",
       " 'kernel': 'rbf',\n",
       " 'max_iter': -1,\n",
       " 'shrinking': True,\n",
       " 'tol': 0.001,\n",
       " 'verbose': False}"
      ]
     },
     "execution_count": 7,
     "metadata": {},
     "output_type": "execute_result"
    }
   ],
   "source": [
    "svm = SVR()\n",
    "svm.get_params()"
   ]
  },
  {
   "cell_type": "code",
   "execution_count": 9,
   "metadata": {},
   "outputs": [
    {
     "data": {
      "text/plain": [
       "SVR(C=0.1, cache_size=200, coef0=0.0, degree=4, epsilon=1, gamma=0.01,\n",
       "    kernel='poly', max_iter=-1, shrinking=True, tol=0.001, verbose=False)"
      ]
     },
     "execution_count": 9,
     "metadata": {},
     "output_type": "execute_result"
    }
   ],
   "source": [
    "# do hyper parameter tuning with the Multi-layer Perceptron, using cross validation\n",
    "\n",
    "param_grid = {\n",
    "    'C': [0.01, 0.1, 1], \n",
    "    'gamma' : [0.01, 0.1, 1], \n",
    "    'epsilon': [0.01, 0.1, 1], \n",
    "    'shrinking' : [True, False], \n",
    "    'degree': [3, 4, 5]\n",
    "}\n",
    "\n",
    "#grid_search = GridSearchCV(estimator=svm, param_grid=param_grid, n_jobs=-1, cv=3, verbose=2)\n",
    "#grid_search.fit(in_conf_train, out_conf_train)\n",
    "#print('Best score: {}'.format(grid_search.best_score_))\n",
    "#print('Best parameters: {}'.format(grid_search.best_params_))\n",
    "#grid_search.best_estimator_\n",
    "#svm_estimator = grid_search.best_estimator_\n",
    "\n",
    "#Best score: -0.013171582768874016\n",
    "#Best parameters: {'C': 1, 'degree': 3, 'epsilon': 1, 'gamma': 1, 'shrinking': True}\n",
    "svm_estimator = SVR(shrinking=True, kernel='poly',gamma=0.01, epsilon=1,degree=4, C=0.1)\n",
    "svm_estimator.fit(in_conf_train, out_conf_train)"
   ]
  },
  {
   "cell_type": "code",
   "execution_count": 10,
   "metadata": {},
   "outputs": [
    {
     "name": "stdout",
     "output_type": "stream",
     "text": [
      "MAE: 13237.038089154525\n",
      "MSE: 5014170804.490771\n"
     ]
    },
    {
     "data": {
      "image/png": "[encoded data removed]",
      "text/plain": [
       "<Figure size 432x288 with 1 Axes>"
      ]
     },
     "metadata": {
      "needs_background": "light"
     },
     "output_type": "display_data"
    }
   ],
   "source": [
    "# predict and check against the testing data \n",
    "svm_estimator_pred = svm_estimator.predict(in_conf_test)\n",
    "plt.plot(out_conf_test)\n",
    "plt.plot(svm_estimator_pred)\n",
    "plt.legend(['Test Data', 'Support Vector Machines Predictions'])\n",
    "print('MAE:', mean_absolute_error(out_conf_test, svm_estimator_pred))\n",
    "print('MSE:', mean_squared_error(out_conf_test, svm_estimator_pred))"
   ]
  },
  {
   "cell_type": "code",
   "execution_count": 11,
   "metadata": {},
   "outputs": [
    {
     "data": {
      "text/plain": [
       "<matplotlib.legend.Legend at 0x7f0b564cefd0>"
      ]
     },
     "execution_count": 11,
     "metadata": {},
     "output_type": "execute_result"
    },
    {
     "data": {
      "image/png": "[encoded data removed]",
      "text/plain": [
       "<Figure size 432x288 with 1 Axes>"
      ]
     },
     "metadata": {
      "needs_background": "light"
     },
     "output_type": "display_data"
    }
   ],
   "source": [
    "usa_df = df.loc[df[\"Country/Region\"] == \"US\"]\n",
    "usa_inputs = usa_df[[\"Lat_norm\", \"Long_norm\", \"Num_days_from_begin_norm\"]].values\n",
    "usa_outputs = usa_df[\"Confirmed\"].values\n",
    "days_list = df[\"Num_days_from_begin\"].unique()\n",
    "usa_pred_output = svm_estimator.predict(usa_inputs)\n",
    "\n",
    "first_day = df[\"Date\"].min()\n",
    "last_day = df[\"Date\"].max()\n",
    "plt.plot(days_list, usa_outputs, color='blue', label=\"Actual Confirmed Cases\")\n",
    "plt.plot(days_list, usa_pred_output, color='green', label=\"Predicted (Support Vector Machines)\")\n",
    "plt.xlabel(\"Number of days since {}\".format(first_day))\n",
    "plt.ylabel(\"# of Cases\")\n",
    "plt.title(\"USA Confirmed Cases vs Prediction from Support Vector Machines Regressor (as of {})\".format(last_day))\n",
    "plt.legend()"
   ]
  },
  {
   "cell_type": "code",
   "execution_count": null,
   "metadata": {},
   "outputs": [],
   "source": []
  }
 ],
 "metadata": {
  "kernelspec": {
   "display_name": "Python 3",
   "language": "python",
   "name": "python3"
  },
  "language_info": {
   "codemirror_mode": {
    "name": "ipython",
    "version": 3
   },
   "file_extension": ".py",
   "mimetype": "text/x-python",
   "name": "python",
   "nbconvert_exporter": "python",
   "pygments_lexer": "ipython3",
   "version": "3.6.9"
  }
 },
 "nbformat": 4,
 "nbformat_minor": 4
}

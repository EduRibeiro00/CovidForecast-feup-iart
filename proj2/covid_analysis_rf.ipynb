{
 "cells": [
  {
   "cell_type": "markdown",
   "metadata": {},
   "source": [
    "# Covid 19 Analysis"
   ]
  },
  {
   "cell_type": "code",
   "execution_count": 1,
   "metadata": {},
   "outputs": [],
   "source": [
    "%matplotlib inline\n",
    "\n",
    "import numpy as np\n",
    "import matplotlib.pyplot as plt\n",
    "import matplotlib.colors as mcolors\n",
    "import seaborn as sb\n",
    "import pandas as pd\n",
    "from sklearn.model_selection import GridSearchCV, train_test_split\n",
    "from sklearn.ensemble import RandomForestRegressor\n",
    "from sklearn.metrics import mean_squared_error, mean_absolute_error"
   ]
  },
  {
   "cell_type": "markdown",
   "metadata": {},
   "source": [
    "### 3) Prediction and Regression\n",
    "#### 3.1) Random Forest\n",
    "- - -"
   ]
  },
  {
   "cell_type": "code",
   "execution_count": 2,
   "metadata": {},
   "outputs": [
    {
     "data": {
      "text/html": [
       "<div>\n",
       "<style scoped>\n",
       "    .dataframe tbody tr th:only-of-type {\n",
       "        vertical-align: middle;\n",
       "    }\n",
       "\n",
       "    .dataframe tbody tr th {\n",
       "        vertical-align: top;\n",
       "    }\n",
       "\n",
       "    .dataframe thead th {\n",
       "        text-align: right;\n",
       "    }\n",
       "</style>\n",
       "<table border=\"1\" class=\"dataframe\">\n",
       "  <thead>\n",
       "    <tr style=\"text-align: right;\">\n",
       "      <th></th>\n",
       "      <th>Country/Region</th>\n",
       "      <th>Lat</th>\n",
       "      <th>Lat_norm</th>\n",
       "      <th>Long</th>\n",
       "      <th>Long_norm</th>\n",
       "      <th>Date</th>\n",
       "      <th>Num_days_from_begin</th>\n",
       "      <th>Num_days_from_begin_norm</th>\n",
       "      <th>Confirmed</th>\n",
       "      <th>Deaths</th>\n",
       "      <th>Recovered</th>\n",
       "    </tr>\n",
       "  </thead>\n",
       "  <tbody>\n",
       "    <tr>\n",
       "      <th>0</th>\n",
       "      <td>Afghanistan</td>\n",
       "      <td>33.000000</td>\n",
       "      <td>0.683333</td>\n",
       "      <td>65.000000</td>\n",
       "      <td>0.680556</td>\n",
       "      <td>2020-01-22</td>\n",
       "      <td>0</td>\n",
       "      <td>0.000000</td>\n",
       "      <td>0</td>\n",
       "      <td>0</td>\n",
       "      <td>0.0</td>\n",
       "    </tr>\n",
       "    <tr>\n",
       "      <th>1</th>\n",
       "      <td>Albania</td>\n",
       "      <td>41.153300</td>\n",
       "      <td>0.728629</td>\n",
       "      <td>20.168300</td>\n",
       "      <td>0.556023</td>\n",
       "      <td>2020-01-22</td>\n",
       "      <td>0</td>\n",
       "      <td>0.000000</td>\n",
       "      <td>0</td>\n",
       "      <td>0</td>\n",
       "      <td>0.0</td>\n",
       "    </tr>\n",
       "    <tr>\n",
       "      <th>2</th>\n",
       "      <td>Algeria</td>\n",
       "      <td>28.033900</td>\n",
       "      <td>0.655744</td>\n",
       "      <td>1.659600</td>\n",
       "      <td>0.504610</td>\n",
       "      <td>2020-01-22</td>\n",
       "      <td>0</td>\n",
       "      <td>0.000000</td>\n",
       "      <td>0</td>\n",
       "      <td>0</td>\n",
       "      <td>0.0</td>\n",
       "    </tr>\n",
       "    <tr>\n",
       "      <th>3</th>\n",
       "      <td>Andorra</td>\n",
       "      <td>42.506300</td>\n",
       "      <td>0.736146</td>\n",
       "      <td>1.521800</td>\n",
       "      <td>0.504227</td>\n",
       "      <td>2020-01-22</td>\n",
       "      <td>0</td>\n",
       "      <td>0.000000</td>\n",
       "      <td>0</td>\n",
       "      <td>0</td>\n",
       "      <td>0.0</td>\n",
       "    </tr>\n",
       "    <tr>\n",
       "      <th>4</th>\n",
       "      <td>Angola</td>\n",
       "      <td>-11.202700</td>\n",
       "      <td>0.437763</td>\n",
       "      <td>17.873900</td>\n",
       "      <td>0.549650</td>\n",
       "      <td>2020-01-22</td>\n",
       "      <td>0</td>\n",
       "      <td>0.000000</td>\n",
       "      <td>0</td>\n",
       "      <td>0</td>\n",
       "      <td>0.0</td>\n",
       "    </tr>\n",
       "    <tr>\n",
       "      <th>...</th>\n",
       "      <td>...</td>\n",
       "      <td>...</td>\n",
       "      <td>...</td>\n",
       "      <td>...</td>\n",
       "      <td>...</td>\n",
       "      <td>...</td>\n",
       "      <td>...</td>\n",
       "      <td>...</td>\n",
       "      <td>...</td>\n",
       "      <td>...</td>\n",
       "      <td>...</td>\n",
       "    </tr>\n",
       "    <tr>\n",
       "      <th>22679</th>\n",
       "      <td>West Bank and Gaza</td>\n",
       "      <td>31.952200</td>\n",
       "      <td>0.677512</td>\n",
       "      <td>35.233200</td>\n",
       "      <td>0.597870</td>\n",
       "      <td>2020-05-07</td>\n",
       "      <td>106</td>\n",
       "      <td>0.990654</td>\n",
       "      <td>375</td>\n",
       "      <td>2</td>\n",
       "      <td>176.0</td>\n",
       "    </tr>\n",
       "    <tr>\n",
       "      <th>22680</th>\n",
       "      <td>Western Sahara</td>\n",
       "      <td>24.215500</td>\n",
       "      <td>0.634531</td>\n",
       "      <td>-12.885800</td>\n",
       "      <td>0.464206</td>\n",
       "      <td>2020-05-07</td>\n",
       "      <td>106</td>\n",
       "      <td>0.990654</td>\n",
       "      <td>6</td>\n",
       "      <td>0</td>\n",
       "      <td>5.0</td>\n",
       "    </tr>\n",
       "    <tr>\n",
       "      <th>22681</th>\n",
       "      <td>Yemen</td>\n",
       "      <td>15.552727</td>\n",
       "      <td>0.586404</td>\n",
       "      <td>48.516388</td>\n",
       "      <td>0.634768</td>\n",
       "      <td>2020-05-07</td>\n",
       "      <td>106</td>\n",
       "      <td>0.990654</td>\n",
       "      <td>25</td>\n",
       "      <td>5</td>\n",
       "      <td>1.0</td>\n",
       "    </tr>\n",
       "    <tr>\n",
       "      <th>22682</th>\n",
       "      <td>Zambia</td>\n",
       "      <td>-15.416700</td>\n",
       "      <td>0.414352</td>\n",
       "      <td>28.283300</td>\n",
       "      <td>0.578565</td>\n",
       "      <td>2020-05-07</td>\n",
       "      <td>106</td>\n",
       "      <td>0.990654</td>\n",
       "      <td>153</td>\n",
       "      <td>4</td>\n",
       "      <td>103.0</td>\n",
       "    </tr>\n",
       "    <tr>\n",
       "      <th>22683</th>\n",
       "      <td>Zimbabwe</td>\n",
       "      <td>-20.000000</td>\n",
       "      <td>0.388889</td>\n",
       "      <td>30.000000</td>\n",
       "      <td>0.583333</td>\n",
       "      <td>2020-05-07</td>\n",
       "      <td>106</td>\n",
       "      <td>0.990654</td>\n",
       "      <td>34</td>\n",
       "      <td>4</td>\n",
       "      <td>5.0</td>\n",
       "    </tr>\n",
       "  </tbody>\n",
       "</table>\n",
       "<p>22684 rows × 11 columns</p>\n",
       "</div>"
      ],
      "text/plain": [
       "           Country/Region        Lat  Lat_norm       Long  Long_norm  \\\n",
       "0             Afghanistan  33.000000  0.683333  65.000000   0.680556   \n",
       "1                 Albania  41.153300  0.728629  20.168300   0.556023   \n",
       "2                 Algeria  28.033900  0.655744   1.659600   0.504610   \n",
       "3                 Andorra  42.506300  0.736146   1.521800   0.504227   \n",
       "4                  Angola -11.202700  0.437763  17.873900   0.549650   \n",
       "...                   ...        ...       ...        ...        ...   \n",
       "22679  West Bank and Gaza  31.952200  0.677512  35.233200   0.597870   \n",
       "22680      Western Sahara  24.215500  0.634531 -12.885800   0.464206   \n",
       "22681               Yemen  15.552727  0.586404  48.516388   0.634768   \n",
       "22682              Zambia -15.416700  0.414352  28.283300   0.578565   \n",
       "22683            Zimbabwe -20.000000  0.388889  30.000000   0.583333   \n",
       "\n",
       "             Date  Num_days_from_begin  Num_days_from_begin_norm  Confirmed  \\\n",
       "0      2020-01-22                    0                  0.000000          0   \n",
       "1      2020-01-22                    0                  0.000000          0   \n",
       "2      2020-01-22                    0                  0.000000          0   \n",
       "3      2020-01-22                    0                  0.000000          0   \n",
       "4      2020-01-22                    0                  0.000000          0   \n",
       "...           ...                  ...                       ...        ...   \n",
       "22679  2020-05-07                  106                  0.990654        375   \n",
       "22680  2020-05-07                  106                  0.990654          6   \n",
       "22681  2020-05-07                  106                  0.990654         25   \n",
       "22682  2020-05-07                  106                  0.990654        153   \n",
       "22683  2020-05-07                  106                  0.990654         34   \n",
       "\n",
       "       Deaths  Recovered  \n",
       "0           0        0.0  \n",
       "1           0        0.0  \n",
       "2           0        0.0  \n",
       "3           0        0.0  \n",
       "4           0        0.0  \n",
       "...       ...        ...  \n",
       "22679       2      176.0  \n",
       "22680       0        5.0  \n",
       "22681       5        1.0  \n",
       "22682       4      103.0  \n",
       "22683       4        5.0  \n",
       "\n",
       "[22684 rows x 11 columns]"
      ]
     },
     "execution_count": 2,
     "metadata": {},
     "output_type": "execute_result"
    }
   ],
   "source": [
    "# load previously processed information into dataframe\n",
    "df = pd.read_csv('data/covid_19_world_processed.csv', delimiter=',')\n",
    "df"
   ]
  },
  {
   "cell_type": "code",
   "execution_count": 3,
   "metadata": {},
   "outputs": [
    {
     "data": {
      "text/plain": [
       "(33.0, 65.0)"
      ]
     },
     "execution_count": 3,
     "metadata": {},
     "output_type": "execute_result"
    }
   ],
   "source": [
    "# define helper functions\n",
    "def get_coords_for_country(country):\n",
    "    country_row = df.loc[df[\"Country/Region\"] == country]\n",
    "    return country_row[\"Lat\"].unique()[0], country_row[\"Long\"].unique()[0]\n",
    "\n",
    "get_coords_for_country(\"Afghanistan\")"
   ]
  },
  {
   "cell_type": "code",
   "execution_count": 4,
   "metadata": {},
   "outputs": [
    {
     "data": {
      "text/plain": [
       "array([[0.683333, 0.680556, 0.      ],\n",
       "       [0.728629, 0.556023, 0.      ],\n",
       "       [0.655744, 0.50461 , 0.      ],\n",
       "       ...,\n",
       "       [0.586404, 0.634768, 0.990654],\n",
       "       [0.414352, 0.578565, 0.990654],\n",
       "       [0.388889, 0.583333, 0.990654]])"
      ]
     },
     "execution_count": 4,
     "metadata": {},
     "output_type": "execute_result"
    }
   ],
   "source": [
    "# get the inputs of the data for the machine learning algorithm\n",
    "inputs = df[[\"Lat_norm\", \"Long_norm\", \"Num_days_from_begin_norm\"]].values\n",
    "inputs"
   ]
  },
  {
   "cell_type": "markdown",
   "metadata": {},
   "source": [
    "#### 3.1.1) Regression for Confirmed Cases\n",
    "- - -"
   ]
  },
  {
   "cell_type": "code",
   "execution_count": 5,
   "metadata": {},
   "outputs": [
    {
     "data": {
      "text/plain": [
       "array([  0,   0,   0, ...,  25, 153,  34])"
      ]
     },
     "execution_count": 5,
     "metadata": {},
     "output_type": "execute_result"
    }
   ],
   "source": [
    "# get the output for the machine learning algorithm (confirmed cases)\n",
    "outputs = df[\"Confirmed\"].values\n",
    "outputs"
   ]
  },
  {
   "cell_type": "code",
   "execution_count": 6,
   "metadata": {},
   "outputs": [],
   "source": [
    "# split the data into training and testing sets\n",
    "in_conf_train, in_conf_test, out_conf_train, out_conf_test = train_test_split(inputs, outputs, test_size=0.25, shuffle=False)\n",
    "\n",
    "# NOTE: actually, the \"testing\" set will be used for \"manual\" testing and plotting, while the training set will be\n",
    "# further divided in training and testing sets, in order to perform k-fold cross validation."
   ]
  },
  {
   "cell_type": "code",
   "execution_count": 36,
   "metadata": {},
   "outputs": [
    {
     "data": {
      "text/plain": [
       "{'bootstrap': True,\n",
       " 'ccp_alpha': 0.0,\n",
       " 'criterion': 'mse',\n",
       " 'max_depth': None,\n",
       " 'max_features': 'auto',\n",
       " 'max_leaf_nodes': None,\n",
       " 'max_samples': None,\n",
       " 'min_impurity_decrease': 0.0,\n",
       " 'min_impurity_split': None,\n",
       " 'min_samples_leaf': 1,\n",
       " 'min_samples_split': 2,\n",
       " 'min_weight_fraction_leaf': 0.0,\n",
       " 'n_estimators': 100,\n",
       " 'n_jobs': None,\n",
       " 'oob_score': False,\n",
       " 'random_state': None,\n",
       " 'verbose': 0,\n",
       " 'warm_start': False}"
      ]
     },
     "execution_count": 36,
     "metadata": {},
     "output_type": "execute_result"
    }
   ],
   "source": [
    "# create Random Forest Regressor instance, and check the hyper parameters\n",
    "rf = RandomForestRegressor()\n",
    "rf.get_params()"
   ]
  },
  {
   "cell_type": "code",
   "execution_count": 11,
   "metadata": {},
   "outputs": [],
   "source": [
    "# do hyper parameter tuning with the Random Forest, using cross validation\n",
    "param_grid = {\n",
    "    'bootstrap': [True],\n",
    "    'max_depth': [80, 90, 100, 110],\n",
    "    'max_features': [2, 3],\n",
    "    'min_samples_leaf': [3, 4, 5],\n",
    "    'min_samples_split': [8, 10, 12],\n",
    "    'n_estimators': [100, 200, 300, 1000]\n",
    "}\n",
    "\n",
    "# grid_search = GridSearchCV(estimator=rf, param_grid=param_grid, cv=3, n_jobs=-1, verbose=2)\n",
    "# grid_search.fit(in_conf_train, out_conf_train)\n",
    "# print('Best score: {}'.format(grid_search.best_score_))\n",
    "# print('Best parameters: {}'.format(grid_search.best_params_))\n",
    "# grid_search.best_estimator_\n",
    "# rf_estimator = grid_search.best_estimator_\n",
    "rf_estimator = RandomForestRegressor(bootstrap=True, ccp_alpha=0.0, criterion='mse',\n",
    "                      max_depth=100, max_features=3, max_leaf_nodes=None,\n",
    "                      max_samples=None, min_impurity_decrease=0.0,\n",
    "                      min_impurity_split=None, min_samples_leaf=3,\n",
    "                      min_samples_split=8, min_weight_fraction_leaf=0.0,\n",
    "                      n_estimators=100, n_jobs=None, oob_score=False,\n",
    "                      random_state=None, verbose=0, warm_start=False)"
   ]
  },
  {
   "cell_type": "code",
   "execution_count": 12,
   "metadata": {},
   "outputs": [
    {
     "name": "stdout",
     "output_type": "stream",
     "text": [
      "MAE: 6842.141486427245\n",
      "MSE: 1840918413.2570755\n"
     ]
    },
    {
     "data": {
      "image/png": "[encoded data removed]",
      "text/plain": [
       "<Figure size 432x288 with 1 Axes>"
      ]
     },
     "metadata": {
      "needs_background": "light"
     },
     "output_type": "display_data"
    }
   ],
   "source": [
    "rf_estimator.fit(in_conf_train, out_conf_train)\n",
    "rf_estimator_pred = rf_estimator.predict(in_conf_test)\n",
    "plt.plot(out_conf_test)\n",
    "plt.plot(rf_estimator_pred)\n",
    "plt.legend(['Test Data', 'Random Forest Predictions'])\n",
    "print('MAE:', mean_absolute_error(out_conf_test, rf_estimator_pred))\n",
    "print('MSE:',mean_squared_error(out_conf_test, rf_estimator_pred))"
   ]
  },
  {
   "cell_type": "code",
   "execution_count": 13,
   "metadata": {},
   "outputs": [
    {
     "data": {
      "text/plain": [
       "<matplotlib.legend.Legend at 0x1a1915b780>"
      ]
     },
     "execution_count": 13,
     "metadata": {},
     "output_type": "execute_result"
    },
    {
     "data": {
      "image/png": "[encoded data removed]",
      "text/plain": [
       "<Figure size 432x288 with 1 Axes>"
      ]
     },
     "metadata": {
      "needs_background": "light"
     },
     "output_type": "display_data"
    }
   ],
   "source": [
    "usa_df = df.loc[df[\"Country/Region\"] == \"US\"]\n",
    "usa_inputs = usa_df[[\"Lat_norm\", \"Long_norm\", \"Num_days_from_begin_norm\"]].values\n",
    "usa_outputs = usa_df[\"Confirmed\"].values\n",
    "days_list = df[\"Num_days_from_begin\"].unique()\n",
    "usa_pred_output = rf_estimator.predict(usa_inputs)\n",
    "\n",
    "first_day = df[\"Date\"].min()\n",
    "last_day = df[\"Date\"].max()\n",
    "plt.plot(days_list, usa_outputs, color='blue', label=\"Actual Confirmed Cases\")\n",
    "plt.plot(days_list, usa_pred_output, color='green', label=\"Predicted (Random Forest)\")\n",
    "plt.xlabel(\"Number of days since {}\".format(first_day))\n",
    "plt.ylabel(\"# of Cases\")\n",
    "plt.title(\"USA Confirmed Cases vs Prediction from Random Forest Regressor (as of {})\".format(last_day))\n",
    "plt.legend()"
   ]
  },
  {
   "cell_type": "code",
   "execution_count": 16,
   "metadata": {},
   "outputs": [
    {
     "data": {
      "text/plain": [
       "array([[ 33.      ,  65.      ,   0.      ],\n",
       "       [ 41.1533  ,  20.1683  ,   0.      ],\n",
       "       [ 28.0339  ,   1.6596  ,   0.      ],\n",
       "       ...,\n",
       "       [ 15.552727,  48.516388, 106.      ],\n",
       "       [-15.4167  ,  28.2833  , 106.      ],\n",
       "       [-20.      ,  30.      , 106.      ]])"
      ]
     },
     "execution_count": 16,
     "metadata": {},
     "output_type": "execute_result"
    }
   ],
   "source": [
    "# fazer modelo com Lat e Long\n",
    "inputs_non_norm = df[[\"Lat\", \"Long\", \"Num_days_from_begin\"]].values\n",
    "inputs_non_norm"
   ]
  },
  {
   "cell_type": "code",
   "execution_count": 17,
   "metadata": {},
   "outputs": [],
   "source": [
    "# divide in training and testing sets\n",
    "non_norm_in_conf_train, non_norm_in_conf_test, non_norm_out_conf_train, non_norm_out_conf_test = train_test_split(inputs_non_norm, outputs, test_size=0.25, shuffle=False)"
   ]
  },
  {
   "cell_type": "code",
   "execution_count": 18,
   "metadata": {},
   "outputs": [
    {
     "name": "stdout",
     "output_type": "stream",
     "text": [
      "MAE: 6761.321671992644\n",
      "MSE: 1786954202.8617067\n"
     ]
    },
    {
     "data": {
      "image/png": "[encoded data removed]",
      "text/plain": [
       "<Figure size 432x288 with 1 Axes>"
      ]
     },
     "metadata": {
      "needs_background": "light"
     },
     "output_type": "display_data"
    }
   ],
   "source": [
    "rf_estimator.fit(non_norm_in_conf_train, non_norm_out_conf_train)\n",
    "rf_estimator_pred_non_norm = rf_estimator.predict(non_norm_in_conf_test)\n",
    "plt.plot(non_norm_out_conf_test)\n",
    "plt.plot(rf_estimator_pred_non_norm)\n",
    "plt.legend(['Test Data', 'Random Forest Predictions (Non Normalized)'])\n",
    "print('MAE:', mean_absolute_error(out_conf_test, rf_estimator_pred))\n",
    "print('MSE:',mean_squared_error(out_conf_test, rf_estimator_pred))"
   ]
  },
  {
   "cell_type": "code",
   "execution_count": 19,
   "metadata": {},
   "outputs": [
    {
     "data": {
      "text/plain": [
       "<matplotlib.legend.Legend at 0x1a19508b38>"
      ]
     },
     "execution_count": 19,
     "metadata": {},
     "output_type": "execute_result"
    },
    {
     "data": {
      "image/png": "[encoded data removed]",
      "text/plain": [
       "<Figure size 432x288 with 1 Axes>"
      ]
     },
     "metadata": {
      "needs_background": "light"
     },
     "output_type": "display_data"
    }
   ],
   "source": [
    "usa_inputs_non_norm = usa_df[[\"Lat\", \"Long\", \"Num_days_from_begin\"]].values\n",
    "usa_pred_output_non_norm = rf_estimator.predict(usa_inputs_non_norm)\n",
    "\n",
    "plt.plot(days_list, usa_outputs, color='blue', label=\"Actual Confirmed Cases\")\n",
    "plt.plot(days_list, usa_pred_output_non_norm, color='green', label=\"Predicted (Random Forest)\")\n",
    "plt.xlabel(\"Number of days since {}\".format(first_day))\n",
    "plt.ylabel(\"# of Cases\")\n",
    "plt.title(\"USA Confirmed Cases vs Prediction (Non normalized inputs) from Random Forest Regressor (as of {})\".format(last_day))\n",
    "plt.legend()"
   ]
  },
  {
   "cell_type": "code",
   "execution_count": null,
   "metadata": {},
   "outputs": [],
   "source": []
  }
 ],
 "metadata": {
  "kernelspec": {
   "display_name": "Python 3",
   "language": "python",
   "name": "python3"
  },
  "language_info": {
   "codemirror_mode": {
    "name": "ipython",
    "version": 3
   },
   "file_extension": ".py",
   "mimetype": "text/x-python",
   "name": "python",
   "nbconvert_exporter": "python",
   "pygments_lexer": "ipython3",
   "version": "3.7.0"
  }
 },
 "nbformat": 4,
 "nbformat_minor": 4
}

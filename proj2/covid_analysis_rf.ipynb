{
 "cells": [
  {
   "cell_type": "markdown",
   "metadata": {},
   "source": [
    "# Covid 19 Analysis"
   ]
  },
  {
   "cell_type": "code",
   "execution_count": 30,
   "metadata": {},
   "outputs": [],
   "source": [
    "%matplotlib inline\n",
    "\n",
    "import math\n",
    "import time\n",
    "import numpy as np\n",
    "import matplotlib.pyplot as plt\n",
    "import matplotlib.colors as mcolors\n",
    "import seaborn as sb\n",
    "import pandas as pd\n",
    "from sklearn.model_selection import GridSearchCV, RandomizedSearchCV, train_test_split, cross_val_score, learning_curve\n",
    "from sklearn.ensemble import RandomForestRegressor\n",
    "from sklearn.datasets import load_iris, load_digits\n",
    "from sklearn.metrics import mean_squared_error, mean_absolute_error, r2_score"
   ]
  },
  {
   "cell_type": "markdown",
   "metadata": {},
   "source": [
    "### 3) Prediction and Regression\n",
    "#### 3.1) Random Forest\n",
    "- - -"
   ]
  },
  {
   "cell_type": "code",
   "execution_count": 2,
   "metadata": {},
   "outputs": [
    {
     "data": {
      "text/html": [
       "<div>\n",
       "<style scoped>\n",
       "    .dataframe tbody tr th:only-of-type {\n",
       "        vertical-align: middle;\n",
       "    }\n",
       "\n",
       "    .dataframe tbody tr th {\n",
       "        vertical-align: top;\n",
       "    }\n",
       "\n",
       "    .dataframe thead th {\n",
       "        text-align: right;\n",
       "    }\n",
       "</style>\n",
       "<table border=\"1\" class=\"dataframe\">\n",
       "  <thead>\n",
       "    <tr style=\"text-align: right;\">\n",
       "      <th></th>\n",
       "      <th>Country/Region</th>\n",
       "      <th>Lat</th>\n",
       "      <th>Lat_norm</th>\n",
       "      <th>Long</th>\n",
       "      <th>Long_norm</th>\n",
       "      <th>Date</th>\n",
       "      <th>Num_days_from_begin</th>\n",
       "      <th>Num_days_from_begin_norm</th>\n",
       "      <th>Confirmed</th>\n",
       "      <th>Deaths</th>\n",
       "      <th>Recovered</th>\n",
       "      <th>Confirmed_inc</th>\n",
       "      <th>Confirmed_inc_norm</th>\n",
       "      <th>Deaths_inc</th>\n",
       "      <th>Deaths_inc_norm</th>\n",
       "      <th>Recovered_inc</th>\n",
       "      <th>Recovered_inc_norm</th>\n",
       "    </tr>\n",
       "  </thead>\n",
       "  <tbody>\n",
       "    <tr>\n",
       "      <th>0</th>\n",
       "      <td>Afghanistan</td>\n",
       "      <td>33.0000</td>\n",
       "      <td>0.471083</td>\n",
       "      <td>65.0000</td>\n",
       "      <td>0.597360</td>\n",
       "      <td>2020-01-22</td>\n",
       "      <td>0</td>\n",
       "      <td>-1.717183</td>\n",
       "      <td>0</td>\n",
       "      <td>0</td>\n",
       "      <td>0.0</td>\n",
       "      <td>0.0</td>\n",
       "      <td>-0.117725</td>\n",
       "      <td>0.0</td>\n",
       "      <td>-0.110666</td>\n",
       "      <td>0.0</td>\n",
       "      <td>-0.121130</td>\n",
       "    </tr>\n",
       "    <tr>\n",
       "      <th>1</th>\n",
       "      <td>Albania</td>\n",
       "      <td>41.1533</td>\n",
       "      <td>0.798304</td>\n",
       "      <td>20.1683</td>\n",
       "      <td>-0.039787</td>\n",
       "      <td>2020-01-22</td>\n",
       "      <td>0</td>\n",
       "      <td>-1.717183</td>\n",
       "      <td>0</td>\n",
       "      <td>0</td>\n",
       "      <td>0.0</td>\n",
       "      <td>0.0</td>\n",
       "      <td>-0.117725</td>\n",
       "      <td>0.0</td>\n",
       "      <td>-0.110666</td>\n",
       "      <td>0.0</td>\n",
       "      <td>-0.121130</td>\n",
       "    </tr>\n",
       "    <tr>\n",
       "      <th>2</th>\n",
       "      <td>Alberta (Canada)</td>\n",
       "      <td>53.9333</td>\n",
       "      <td>1.311212</td>\n",
       "      <td>-116.5765</td>\n",
       "      <td>-1.983201</td>\n",
       "      <td>2020-01-22</td>\n",
       "      <td>0</td>\n",
       "      <td>-1.717183</td>\n",
       "      <td>0</td>\n",
       "      <td>0</td>\n",
       "      <td>NaN</td>\n",
       "      <td>0.0</td>\n",
       "      <td>-0.117725</td>\n",
       "      <td>0.0</td>\n",
       "      <td>-0.110666</td>\n",
       "      <td>NaN</td>\n",
       "      <td>NaN</td>\n",
       "    </tr>\n",
       "    <tr>\n",
       "      <th>3</th>\n",
       "      <td>Algeria</td>\n",
       "      <td>28.0339</td>\n",
       "      <td>0.271776</td>\n",
       "      <td>1.6596</td>\n",
       "      <td>-0.302833</td>\n",
       "      <td>2020-01-22</td>\n",
       "      <td>0</td>\n",
       "      <td>-1.717183</td>\n",
       "      <td>0</td>\n",
       "      <td>0</td>\n",
       "      <td>0.0</td>\n",
       "      <td>0.0</td>\n",
       "      <td>-0.117725</td>\n",
       "      <td>0.0</td>\n",
       "      <td>-0.110666</td>\n",
       "      <td>0.0</td>\n",
       "      <td>-0.121130</td>\n",
       "    </tr>\n",
       "    <tr>\n",
       "      <th>4</th>\n",
       "      <td>Andorra</td>\n",
       "      <td>42.5063</td>\n",
       "      <td>0.852605</td>\n",
       "      <td>1.5218</td>\n",
       "      <td>-0.304791</td>\n",
       "      <td>2020-01-22</td>\n",
       "      <td>0</td>\n",
       "      <td>-1.717183</td>\n",
       "      <td>0</td>\n",
       "      <td>0</td>\n",
       "      <td>0.0</td>\n",
       "      <td>0.0</td>\n",
       "      <td>-0.117725</td>\n",
       "      <td>0.0</td>\n",
       "      <td>-0.110666</td>\n",
       "      <td>0.0</td>\n",
       "      <td>-0.121130</td>\n",
       "    </tr>\n",
       "    <tr>\n",
       "      <th>...</th>\n",
       "      <td>...</td>\n",
       "      <td>...</td>\n",
       "      <td>...</td>\n",
       "      <td>...</td>\n",
       "      <td>...</td>\n",
       "      <td>...</td>\n",
       "      <td>...</td>\n",
       "      <td>...</td>\n",
       "      <td>...</td>\n",
       "      <td>...</td>\n",
       "      <td>...</td>\n",
       "      <td>...</td>\n",
       "      <td>...</td>\n",
       "      <td>...</td>\n",
       "      <td>...</td>\n",
       "      <td>...</td>\n",
       "      <td>...</td>\n",
       "    </tr>\n",
       "    <tr>\n",
       "      <th>30619</th>\n",
       "      <td>Yukon (Canada)</td>\n",
       "      <td>64.2823</td>\n",
       "      <td>1.726554</td>\n",
       "      <td>-135.0000</td>\n",
       "      <td>-2.245035</td>\n",
       "      <td>2020-05-16</td>\n",
       "      <td>115</td>\n",
       "      <td>1.717183</td>\n",
       "      <td>11</td>\n",
       "      <td>0</td>\n",
       "      <td>NaN</td>\n",
       "      <td>0.0</td>\n",
       "      <td>-0.117725</td>\n",
       "      <td>0.0</td>\n",
       "      <td>-0.110666</td>\n",
       "      <td>NaN</td>\n",
       "      <td>NaN</td>\n",
       "    </tr>\n",
       "    <tr>\n",
       "      <th>30620</th>\n",
       "      <td>Yunnan (China)</td>\n",
       "      <td>24.9740</td>\n",
       "      <td>0.148971</td>\n",
       "      <td>101.4870</td>\n",
       "      <td>1.115912</td>\n",
       "      <td>2020-05-16</td>\n",
       "      <td>115</td>\n",
       "      <td>1.717183</td>\n",
       "      <td>185</td>\n",
       "      <td>2</td>\n",
       "      <td>183.0</td>\n",
       "      <td>0.0</td>\n",
       "      <td>-0.117725</td>\n",
       "      <td>0.0</td>\n",
       "      <td>-0.110666</td>\n",
       "      <td>0.0</td>\n",
       "      <td>-0.121130</td>\n",
       "    </tr>\n",
       "    <tr>\n",
       "      <th>30621</th>\n",
       "      <td>Zambia</td>\n",
       "      <td>-15.4167</td>\n",
       "      <td>-1.472053</td>\n",
       "      <td>28.2833</td>\n",
       "      <td>0.075543</td>\n",
       "      <td>2020-05-16</td>\n",
       "      <td>115</td>\n",
       "      <td>1.717183</td>\n",
       "      <td>679</td>\n",
       "      <td>7</td>\n",
       "      <td>183.0</td>\n",
       "      <td>25.0</td>\n",
       "      <td>-0.098276</td>\n",
       "      <td>0.0</td>\n",
       "      <td>-0.110666</td>\n",
       "      <td>59.0</td>\n",
       "      <td>0.003578</td>\n",
       "    </tr>\n",
       "    <tr>\n",
       "      <th>30622</th>\n",
       "      <td>Zhejiang (China)</td>\n",
       "      <td>29.1832</td>\n",
       "      <td>0.317901</td>\n",
       "      <td>120.0934</td>\n",
       "      <td>1.380346</td>\n",
       "      <td>2020-05-16</td>\n",
       "      <td>115</td>\n",
       "      <td>1.717183</td>\n",
       "      <td>1268</td>\n",
       "      <td>1</td>\n",
       "      <td>1267.0</td>\n",
       "      <td>0.0</td>\n",
       "      <td>-0.117725</td>\n",
       "      <td>0.0</td>\n",
       "      <td>-0.110666</td>\n",
       "      <td>0.0</td>\n",
       "      <td>-0.121130</td>\n",
       "    </tr>\n",
       "    <tr>\n",
       "      <th>30623</th>\n",
       "      <td>Zimbabwe</td>\n",
       "      <td>-20.0000</td>\n",
       "      <td>-1.655997</td>\n",
       "      <td>30.0000</td>\n",
       "      <td>0.099941</td>\n",
       "      <td>2020-05-16</td>\n",
       "      <td>115</td>\n",
       "      <td>1.717183</td>\n",
       "      <td>42</td>\n",
       "      <td>4</td>\n",
       "      <td>13.0</td>\n",
       "      <td>0.0</td>\n",
       "      <td>-0.117725</td>\n",
       "      <td>0.0</td>\n",
       "      <td>-0.110666</td>\n",
       "      <td>0.0</td>\n",
       "      <td>-0.121130</td>\n",
       "    </tr>\n",
       "  </tbody>\n",
       "</table>\n",
       "<p>30624 rows × 17 columns</p>\n",
       "</div>"
      ],
      "text/plain": [
       "         Country/Region      Lat  Lat_norm      Long  Long_norm        Date  \\\n",
       "0           Afghanistan  33.0000  0.471083   65.0000   0.597360  2020-01-22   \n",
       "1               Albania  41.1533  0.798304   20.1683  -0.039787  2020-01-22   \n",
       "2      Alberta (Canada)  53.9333  1.311212 -116.5765  -1.983201  2020-01-22   \n",
       "3               Algeria  28.0339  0.271776    1.6596  -0.302833  2020-01-22   \n",
       "4               Andorra  42.5063  0.852605    1.5218  -0.304791  2020-01-22   \n",
       "...                 ...      ...       ...       ...        ...         ...   \n",
       "30619    Yukon (Canada)  64.2823  1.726554 -135.0000  -2.245035  2020-05-16   \n",
       "30620    Yunnan (China)  24.9740  0.148971  101.4870   1.115912  2020-05-16   \n",
       "30621            Zambia -15.4167 -1.472053   28.2833   0.075543  2020-05-16   \n",
       "30622  Zhejiang (China)  29.1832  0.317901  120.0934   1.380346  2020-05-16   \n",
       "30623          Zimbabwe -20.0000 -1.655997   30.0000   0.099941  2020-05-16   \n",
       "\n",
       "       Num_days_from_begin  Num_days_from_begin_norm  Confirmed  Deaths  \\\n",
       "0                        0                 -1.717183          0       0   \n",
       "1                        0                 -1.717183          0       0   \n",
       "2                        0                 -1.717183          0       0   \n",
       "3                        0                 -1.717183          0       0   \n",
       "4                        0                 -1.717183          0       0   \n",
       "...                    ...                       ...        ...     ...   \n",
       "30619                  115                  1.717183         11       0   \n",
       "30620                  115                  1.717183        185       2   \n",
       "30621                  115                  1.717183        679       7   \n",
       "30622                  115                  1.717183       1268       1   \n",
       "30623                  115                  1.717183         42       4   \n",
       "\n",
       "       Recovered  Confirmed_inc  Confirmed_inc_norm  Deaths_inc  \\\n",
       "0            0.0            0.0           -0.117725         0.0   \n",
       "1            0.0            0.0           -0.117725         0.0   \n",
       "2            NaN            0.0           -0.117725         0.0   \n",
       "3            0.0            0.0           -0.117725         0.0   \n",
       "4            0.0            0.0           -0.117725         0.0   \n",
       "...          ...            ...                 ...         ...   \n",
       "30619        NaN            0.0           -0.117725         0.0   \n",
       "30620      183.0            0.0           -0.117725         0.0   \n",
       "30621      183.0           25.0           -0.098276         0.0   \n",
       "30622     1267.0            0.0           -0.117725         0.0   \n",
       "30623       13.0            0.0           -0.117725         0.0   \n",
       "\n",
       "       Deaths_inc_norm  Recovered_inc  Recovered_inc_norm  \n",
       "0            -0.110666            0.0           -0.121130  \n",
       "1            -0.110666            0.0           -0.121130  \n",
       "2            -0.110666            NaN                 NaN  \n",
       "3            -0.110666            0.0           -0.121130  \n",
       "4            -0.110666            0.0           -0.121130  \n",
       "...                ...            ...                 ...  \n",
       "30619        -0.110666            NaN                 NaN  \n",
       "30620        -0.110666            0.0           -0.121130  \n",
       "30621        -0.110666           59.0            0.003578  \n",
       "30622        -0.110666            0.0           -0.121130  \n",
       "30623        -0.110666            0.0           -0.121130  \n",
       "\n",
       "[30624 rows x 17 columns]"
      ]
     },
     "execution_count": 2,
     "metadata": {},
     "output_type": "execute_result"
    }
   ],
   "source": [
    "# load previously processed information into dataframe\n",
    "df = pd.read_csv('data/covid_19_world_processed.csv', delimiter=',')\n",
    "df"
   ]
  },
  {
   "cell_type": "code",
   "execution_count": 3,
   "metadata": {},
   "outputs": [
    {
     "data": {
      "text/plain": [
       "array([[ 0.47108303,  0.59735963, -1.71718314],\n",
       "       [ 0.79830423, -0.03978737, -1.71718314],\n",
       "       [ 1.3112115 , -1.98320106, -1.71718314],\n",
       "       ...,\n",
       "       [-1.47205293,  0.07554281,  1.71718314],\n",
       "       [ 0.31790115,  1.38034566,  1.71718314],\n",
       "       [-1.65599721,  0.09994051,  1.71718314]])"
      ]
     },
     "execution_count": 3,
     "metadata": {},
     "output_type": "execute_result"
    }
   ],
   "source": [
    "# get the inputs of the data for the machine learning algorithm\n",
    "inputs = df[[\"Lat_norm\", \"Long_norm\", \"Num_days_from_begin_norm\"]].values\n",
    "inputs"
   ]
  },
  {
   "cell_type": "markdown",
   "metadata": {},
   "source": [
    "#### 3.1.1) Regression for Confirmed Cases\n",
    "- - -"
   ]
  },
  {
   "cell_type": "code",
   "execution_count": 4,
   "metadata": {},
   "outputs": [
    {
     "data": {
      "text/plain": [
       "array([   0,    0,    0, ...,  679, 1268,   42])"
      ]
     },
     "execution_count": 4,
     "metadata": {},
     "output_type": "execute_result"
    }
   ],
   "source": [
    "# get the output for the machine learning algorithm (confirmed cases)\n",
    "outputs = df[\"Confirmed\"].values\n",
    "outputs"
   ]
  },
  {
   "cell_type": "code",
   "execution_count": 32,
   "metadata": {},
   "outputs": [],
   "source": [
    "# split the data into training and testing sets\n",
    "in_conf_train, in_conf_test, out_conf_train, out_conf_test = train_test_split(inputs, outputs, test_size=0.25, shuffle=True)\n",
    "\n",
    "# NOTE: actually, the \"testing\" set will be used for \"manual\" testing and plotting, while the training set will be\n",
    "# further divided in training and testing sets, in order to perform k-fold cross validation."
   ]
  },
  {
   "cell_type": "code",
   "execution_count": 6,
   "metadata": {},
   "outputs": [
    {
     "data": {
      "text/plain": [
       "{'bootstrap': True,\n",
       " 'ccp_alpha': 0.0,\n",
       " 'criterion': 'mse',\n",
       " 'max_depth': None,\n",
       " 'max_features': 'auto',\n",
       " 'max_leaf_nodes': None,\n",
       " 'max_samples': None,\n",
       " 'min_impurity_decrease': 0.0,\n",
       " 'min_impurity_split': None,\n",
       " 'min_samples_leaf': 1,\n",
       " 'min_samples_split': 2,\n",
       " 'min_weight_fraction_leaf': 0.0,\n",
       " 'n_estimators': 100,\n",
       " 'n_jobs': None,\n",
       " 'oob_score': False,\n",
       " 'random_state': None,\n",
       " 'verbose': 0,\n",
       " 'warm_start': False}"
      ]
     },
     "execution_count": 6,
     "metadata": {},
     "output_type": "execute_result"
    }
   ],
   "source": [
    "# create Random Forest Regressor instance, and check the hyper parameters\n",
    "rf = RandomForestRegressor()\n",
    "rf.get_params()"
   ]
  },
  {
   "cell_type": "code",
   "execution_count": 33,
   "metadata": {},
   "outputs": [
    {
     "name": "stdout",
     "output_type": "stream",
     "text": [
      "Fitting 3 folds for each of 10 candidates, totalling 30 fits\n"
     ]
    },
    {
     "name": "stderr",
     "output_type": "stream",
     "text": [
      "[Parallel(n_jobs=-1)]: Using backend LokyBackend with 4 concurrent workers.\n",
      "[Parallel(n_jobs=-1)]: Done  30 out of  30 | elapsed:  5.6min finished\n"
     ]
    },
    {
     "name": "stdout",
     "output_type": "stream",
     "text": [
      "Elapsed time: 5.845779534180959mins\n",
      "Best score: -19703833.531192064\n",
      "Best parameters: {'n_estimators': 300, 'min_samples_split': 8, 'min_samples_leaf': 3, 'max_features': 3, 'max_depth': 90, 'bootstrap': True}\n"
     ]
    },
    {
     "data": {
      "text/plain": [
       "RandomForestRegressor(bootstrap=True, ccp_alpha=0.0, criterion='mse',\n",
       "                      max_depth=90, max_features=3, max_leaf_nodes=None,\n",
       "                      max_samples=None, min_impurity_decrease=0.0,\n",
       "                      min_impurity_split=None, min_samples_leaf=3,\n",
       "                      min_samples_split=8, min_weight_fraction_leaf=0.0,\n",
       "                      n_estimators=300, n_jobs=None, oob_score=False,\n",
       "                      random_state=None, verbose=0, warm_start=False)"
      ]
     },
     "execution_count": 33,
     "metadata": {},
     "output_type": "execute_result"
    }
   ],
   "source": [
    "# do hyper parameter tuning with the Random Forest, using cross validation\n",
    "param_grid = {\n",
    "    'bootstrap': [True],\n",
    "    'max_depth': [80, 90, 100, 110],\n",
    "    'max_features': [2, 3],\n",
    "    'min_samples_leaf': [3, 4, 5],\n",
    "    'min_samples_split': [8, 10, 12],\n",
    "    'n_estimators': [100, 200, 300, 1000]\n",
    "}\n",
    "\n",
    "start = time.time()\n",
    "\n",
    "#search = GridSearchCV(estimator=rf, param_grid=param_grid, cv=3, n_jobs=-1, verbose=2)\n",
    "search = RandomizedSearchCV(rf, param_grid, scoring='neg_mean_squared_error', cv=3, return_train_score=True, n_jobs=-1, n_iter=10, verbose=1)\n",
    "search.fit(in_conf_train, out_conf_train)\n",
    "end = time.time()\n",
    "elapsed_time = end - start\n",
    "print('Elapsed time: {}mins'.format(elapsed_time / 60))\n",
    "print('Best score: {}'.format(search.best_score_))\n",
    "print('Best parameters: {}'.format(search.best_params_))\n",
    "search.best_estimator_\n",
    "rf_estimator = search.best_estimator_\n",
    "rf_estimator\n",
    "\n",
    "\n",
    "#rf_estimator = RandomForestRegressor(bootstrap=True, ccp_alpha=0.0, criterion='mse',\n",
    "                      #max_depth=100, max_features=3, max_leaf_nodes=None,\n",
    "                      #max_samples=None, min_impurity_decrease=0.0,\n",
    "                      #min_impurity_split=None, min_samples_leaf=3,\n",
    "                      #min_samples_split=8, min_weight_fraction_leaf=0.0,\n",
    "                      #n_estimators=100, n_jobs=None, oob_score=False,\n",
    "                      #random_state=None, verbose=0, warm_start=False)\n",
    "#rf_estimator.fit(in_conf_train, out_conf_train)"
   ]
  },
  {
   "cell_type": "code",
   "execution_count": 34,
   "metadata": {},
   "outputs": [
    {
     "name": "stdout",
     "output_type": "stream",
     "text": [
      "MAE: 205.53200101985658\n",
      "MSE: 2235617.7804334657\n",
      "RMSE: 1495.1982411819063\n",
      "R^2: 0.99723228898194\n"
     ]
    },
    {
     "data": {
      "image/png": "[encoded data removed]",
      "text/plain": [
       "<Figure size 432x288 with 1 Axes>"
      ]
     },
     "metadata": {
      "needs_background": "light"
     },
     "output_type": "display_data"
    }
   ],
   "source": [
    "rf_estimator_pred = rf_estimator.predict(in_conf_test)\n",
    "plt.plot(out_conf_test)\n",
    "plt.plot(rf_estimator_pred)\n",
    "plt.legend(['Input Data', 'Random Forest Predictions'])\n",
    "print('MAE:', mean_absolute_error(out_conf_test, rf_estimator_pred))\n",
    "print('MSE:',mean_squared_error(out_conf_test, rf_estimator_pred))\n",
    "print('RMSE:', math.sqrt(mean_squared_error(out_conf_test, rf_estimator_pred)))\n",
    "print('R^2:', r2_score(out_conf_test, rf_estimator_pred))"
   ]
  },
  {
   "cell_type": "code",
   "execution_count": 35,
   "metadata": {},
   "outputs": [
    {
     "data": {
      "text/plain": [
       "Text(0.5, 1.0, 'Average score: -1.079758886876958')"
      ]
     },
     "execution_count": 35,
     "metadata": {},
     "output_type": "execute_result"
    },
    {
     "data": {
      "image/png": "[encoded data removed]",
      "text/plain": [
       "<Figure size 432x288 with 1 Axes>"
      ]
     },
     "metadata": {
      "needs_background": "light"
     },
     "output_type": "display_data"
    }
   ],
   "source": [
    "rf_estimator_2 = RandomForestRegressor(bootstrap=True, ccp_alpha=0.0, criterion='mse',\n",
    "                      max_depth=100, max_features=3, max_leaf_nodes=None,\n",
    "                      max_samples=None, min_impurity_decrease=0.0,\n",
    "                      min_impurity_split=None, min_samples_leaf=3,\n",
    "                      min_samples_split=8, min_weight_fraction_leaf=0.0,\n",
    "                      n_estimators=100, n_jobs=None, oob_score=False,\n",
    "                      random_state=None, verbose=0, warm_start=False)\n",
    "\n",
    "cv_scores = cross_val_score(rf_estimator_2, inputs, outputs, cv=10)\n",
    "plt.hist(cv_scores)\n",
    "plt.title('Average score: {}'.format(np.mean(cv_scores)))"
   ]
  },
  {
   "cell_type": "code",
   "execution_count": 36,
   "metadata": {},
   "outputs": [
    {
     "data": {
      "text/plain": [
       "<matplotlib.legend.Legend at 0x1a33c2a828>"
      ]
     },
     "execution_count": 36,
     "metadata": {},
     "output_type": "execute_result"
    },
    {
     "data": {
      "image/png": "[encoded data removed]",
      "text/plain": [
       "<Figure size 432x288 with 1 Axes>"
      ]
     },
     "metadata": {
      "needs_background": "light"
     },
     "output_type": "display_data"
    }
   ],
   "source": [
    "usa_df = df.loc[df[\"Country/Region\"] == \"US\"]\n",
    "usa_inputs = usa_df[[\"Lat_norm\", \"Long_norm\", \"Num_days_from_begin_norm\"]].values\n",
    "usa_outputs = usa_df[\"Confirmed\"].values\n",
    "days_list = df[\"Num_days_from_begin\"].unique()\n",
    "usa_pred_output = rf_estimator.predict(usa_inputs) \n",
    "\n",
    "first_day = df[\"Date\"].min()\n",
    "last_day = df[\"Date\"].max()\n",
    "plt.plot(days_list, usa_outputs, color='blue', label=\"Actual Confirmed Cases\")\n",
    "plt.plot(days_list, usa_pred_output, color='green', label=\"Predicted (Random Forest)\")\n",
    "plt.xlabel(\"Number of days since {}\".format(first_day))\n",
    "plt.ylabel(\"# of Cases\")\n",
    "plt.title(\"USA Confirmed Cases vs Prediction from Random Forest Regressor (as of {})\".format(last_day))\n",
    "plt.legend()"
   ]
  },
  {
   "cell_type": "code",
   "execution_count": 37,
   "metadata": {},
   "outputs": [
    {
     "data": {
      "text/plain": [
       "<matplotlib.legend.Legend at 0x1a33d00a58>"
      ]
     },
     "execution_count": 37,
     "metadata": {},
     "output_type": "execute_result"
    },
    {
     "data": {
      "image/png": "[encoded data removed]",
      "text/plain": [
       "<Figure size 432x288 with 1 Axes>"
      ]
     },
     "metadata": {
      "needs_background": "light"
     },
     "output_type": "display_data"
    }
   ],
   "source": [
    "spain_df = df.loc[df[\"Country/Region\"] == \"Spain\"]\n",
    "spain_inputs = spain_df[[\"Lat_norm\", \"Long_norm\", \"Num_days_from_begin_norm\"]].values\n",
    "spain_outputs = spain_df[\"Confirmed\"].values\n",
    "days_list = df[\"Num_days_from_begin\"].unique()\n",
    "spain_pred_output = rf_estimator.predict(spain_inputs) \n",
    "\n",
    "first_day = df[\"Date\"].min()\n",
    "last_day = df[\"Date\"].max()\n",
    "plt.plot(days_list, spain_outputs, color='blue', label=\"Actual Confirmed Cases\")\n",
    "plt.plot(days_list, spain_pred_output, color='green', label=\"Predicted (Random Forest)\")\n",
    "plt.xlabel(\"Number of days since {}\".format(first_day))\n",
    "plt.ylabel(\"# of Cases\")\n",
    "plt.title(\"Spain Confirmed Cases vs Prediction from Random Forest Regressor (as of {})\".format(last_day))\n",
    "plt.legend()"
   ]
  },
  {
   "cell_type": "code",
   "execution_count": 38,
   "metadata": {},
   "outputs": [
    {
     "data": {
      "text/plain": [
       "<matplotlib.legend.Legend at 0x1a33dccc88>"
      ]
     },
     "execution_count": 38,
     "metadata": {},
     "output_type": "execute_result"
    },
    {
     "data": {
      "image/png": "[encoded data removed]",
      "text/plain": [
       "<Figure size 432x288 with 1 Axes>"
      ]
     },
     "metadata": {
      "needs_background": "light"
     },
     "output_type": "display_data"
    }
   ],
   "source": [
    "brazil_df = df.loc[df[\"Country/Region\"] == \"Brazil\"]\n",
    "brazil_inputs = brazil_df[[\"Lat_norm\", \"Long_norm\", \"Num_days_from_begin_norm\"]].values\n",
    "brazil_outputs = brazil_df[\"Confirmed\"].values\n",
    "days_list = df[\"Num_days_from_begin\"].unique()\n",
    "brazil_pred_output = rf_estimator.predict(brazil_inputs)\n",
    "\n",
    "first_day = df[\"Date\"].min()\n",
    "last_day = df[\"Date\"].max()\n",
    "plt.plot(days_list, brazil_outputs, color='blue', label=\"Actual Confirmed Cases\")\n",
    "plt.plot(days_list, brazil_pred_output, color='green', label=\"Predicted (Random Forest)\")\n",
    "plt.xlabel(\"Number of days since {}\".format(first_day))\n",
    "plt.ylabel(\"# of Cases\")\n",
    "plt.title(\"Brazil Confirmed Cases vs Prediction from Random Forest Regressor (as of {})\".format(last_day))\n",
    "plt.legend()"
   ]
  },
  {
   "cell_type": "code",
   "execution_count": 39,
   "metadata": {},
   "outputs": [
    {
     "data": {
      "text/plain": [
       "<matplotlib.legend.Legend at 0x1a2a458198>"
      ]
     },
     "execution_count": 39,
     "metadata": {},
     "output_type": "execute_result"
    },
    {
     "data": {
      "image/png": "[encoded data removed]",
      "text/plain": [
       "<Figure size 432x288 with 1 Axes>"
      ]
     },
     "metadata": {
      "needs_background": "light"
     },
     "output_type": "display_data"
    }
   ],
   "source": [
    "portugal_df = df.loc[df[\"Country/Region\"] == \"Portugal\"]\n",
    "portugal_inputs = portugal_df[[\"Lat_norm\", \"Long_norm\", \"Num_days_from_begin_norm\"]].values\n",
    "portugal_outputs = portugal_df[\"Confirmed\"].values\n",
    "days_list = df[\"Num_days_from_begin\"].unique()\n",
    "portugal_pred_output = rf_estimator.predict(portugal_inputs)\n",
    "\n",
    "first_day = df[\"Date\"].min()\n",
    "last_day = df[\"Date\"].max()\n",
    "plt.plot(days_list, portugal_outputs, color='blue', label=\"Actual Confirmed Cases\")\n",
    "plt.plot(days_list, portugal_pred_output, color='green', label=\"Predicted (Random Forest)\")\n",
    "plt.xlabel(\"Number of days since {}\".format(first_day))\n",
    "plt.ylabel(\"# of Cases\")\n",
    "plt.title(\"Portugal Confirmed Cases vs Prediction from Random Forest Regressor (as of {})\".format(last_day))\n",
    "plt.legend()"
   ]
  },
  {
   "cell_type": "code",
   "execution_count": 40,
   "metadata": {},
   "outputs": [
    {
     "data": {
      "text/plain": [
       "<matplotlib.legend.Legend at 0x1a2a3d42e8>"
      ]
     },
     "execution_count": 40,
     "metadata": {},
     "output_type": "execute_result"
    },
    {
     "data": {
      "image/png": "[encoded data removed]",
      "text/plain": [
       "<Figure size 432x288 with 1 Axes>"
      ]
     },
     "metadata": {
      "needs_background": "light"
     },
     "output_type": "display_data"
    }
   ],
   "source": [
    "# learning curve (TODO)\n",
    "rf_estimator_2 = RandomForestRegressor(bootstrap=True, ccp_alpha=0.0, criterion='mse',\n",
    "                      max_depth=100, max_features=3, max_leaf_nodes=None,\n",
    "                      max_samples=None, min_impurity_decrease=0.0,\n",
    "                      min_impurity_split=None, min_samples_leaf=3,\n",
    "                      min_samples_split=8, min_weight_fraction_leaf=0.0,\n",
    "                      n_estimators=100, n_jobs=None, oob_score=False,\n",
    "                      random_state=None, verbose=0, warm_start=False)\n",
    "\n",
    "train_sizes, train_scores, test_scores = learning_curve(estimator=rf_estimator, X=inputs, y=outputs,\n",
    "                                       groups=None, \n",
    "                                       train_sizes=np.array([0.1, 0.33, 0.55, 0.78, 1. ]),\n",
    "                                       cv=None, scoring=None, exploit_incremental_learning=False, \n",
    "                                       n_jobs=None, pre_dispatch='all', verbose=0, shuffle=True, \n",
    "                                       random_state=None, error_score=np.nan, return_times=False)\n",
    "\n",
    "train_scores_mean = train_scores.mean(axis=1)\n",
    "test_scores_mean = test_scores.mean(axis=1)\n",
    "\n",
    "plt.plot(train_sizes, train_scores_mean, label='Training score')\n",
    "plt.plot(train_sizes, test_scores_mean, label='Test score')\n",
    "\n",
    "plt.ylabel('Score', fontsize=14)\n",
    "plt.xlabel('Training set size', fontsize=14)\n",
    "title = 'Learning curves for a ' + str(rf_estimator).split('(')[0] + ' model'\n",
    "plt.title(title, fontsize=18, y=1.03)\n",
    "plt.legend()"
   ]
  },
  {
   "cell_type": "markdown",
   "metadata": {},
   "source": [
    "# NON NORMALIZED"
   ]
  },
  {
   "cell_type": "code",
   "execution_count": 41,
   "metadata": {},
   "outputs": [
    {
     "data": {
      "text/plain": [
       "array([[  33.    ,   65.    ,    0.    ],\n",
       "       [  41.1533,   20.1683,    0.    ],\n",
       "       [  53.9333, -116.5765,    0.    ],\n",
       "       ...,\n",
       "       [ -15.4167,   28.2833,  115.    ],\n",
       "       [  29.1832,  120.0934,  115.    ],\n",
       "       [ -20.    ,   30.    ,  115.    ]])"
      ]
     },
     "execution_count": 41,
     "metadata": {},
     "output_type": "execute_result"
    }
   ],
   "source": [
    "# get the inputs of the data for the machine learning algorithm\n",
    "inputs = df[[\"Lat\", \"Long\", \"Num_days_from_begin\"]].values\n",
    "inputs"
   ]
  },
  {
   "cell_type": "code",
   "execution_count": 42,
   "metadata": {},
   "outputs": [],
   "source": [
    "# split the data into training and testing sets\n",
    "in_conf_train, in_conf_test, out_conf_train, out_conf_test = train_test_split(inputs, outputs, test_size=0.25, shuffle=True)\n",
    "\n",
    "# NOTE: actually, the \"testing\" set will be used for \"manual\" testing and plotting, while the training set will be\n",
    "# further divided in training and testing sets, in order to perform k-fold cross validation."
   ]
  },
  {
   "cell_type": "code",
   "execution_count": null,
   "metadata": {},
   "outputs": [],
   "source": [
    "# do hyper parameter tuning with the Random Forest, using cross validation\n",
    "param_grid = {\n",
    "    'bootstrap': [True],\n",
    "    'max_depth': [80, 90, 100, 110],\n",
    "    'max_features': [2, 3],\n",
    "    'min_samples_leaf': [3, 4, 5],\n",
    "    'min_samples_split': [8, 10, 12],\n",
    "    'n_estimators': [100, 200, 300, 1000]\n",
    "}\n",
    "\n",
    "start = time.time()\n",
    "\n",
    "#search = GridSearchCV(estimator=rf, param_grid=param_grid, cv=3, n_jobs=-1, verbose=2)\n",
    "search = RandomizedSearchCV(rf, param_grid, scoring='neg_mean_squared_error', cv=3, return_train_score=True, n_jobs=-1, n_iter=10, verbose=1)\n",
    "search.fit(in_conf_train, out_conf_train)\n",
    "end = time.time()\n",
    "elapsed_time = end - start\n",
    "print('Elapsed time: {}mins'.format(elapsed_time / 60))\n",
    "print('Best score: {}'.format(search.best_score_))\n",
    "print('Best parameters: {}'.format(search.best_params_))\n",
    "search.best_estimator_\n",
    "rf_estimator = search.best_estimator_\n",
    "rf_estimator\n",
    "\n",
    "#rf_estimator = RandomForestRegressor(bootstrap=True, ccp_alpha=0.0, criterion='mse',\n",
    "                      #max_depth=100, max_features=3, max_leaf_nodes=None,\n",
    "                      #max_samples=None, min_impurity_decrease=0.0,\n",
    "                      #min_impurity_split=None, min_samples_leaf=3,\n",
    "                      #min_samples_split=8, min_weight_fraction_leaf=0.0,\n",
    "                      #n_estimators=100, n_jobs=None, oob_score=False,\n",
    "                      #random_state=None, verbose=0, warm_start=False)\n",
    "#rf_estimator.fit(in_conf_train, out_conf_train)"
   ]
  }
 ],
 "metadata": {
  "kernelspec": {
   "display_name": "Python 3",
   "language": "python",
   "name": "python3"
  },
  "language_info": {
   "codemirror_mode": {
    "name": "ipython",
    "version": 3
   },
   "file_extension": ".py",
   "mimetype": "text/x-python",
   "name": "python",
   "nbconvert_exporter": "python",
   "pygments_lexer": "ipython3",
   "version": "3.7.0"
  }
 },
 "nbformat": 4,
 "nbformat_minor": 4
}

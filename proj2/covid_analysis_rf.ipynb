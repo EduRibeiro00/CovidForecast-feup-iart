{
 "cells": [
  {
   "cell_type": "markdown",
   "metadata": {},
   "source": [
    "# Covid 19 Analysis"
   ]
  },
  {
   "cell_type": "code",
   "execution_count": 1,
   "metadata": {},
   "outputs": [],
   "source": [
    "%matplotlib inline\n",
    "\n",
    "import numpy as np\n",
    "import matplotlib.pyplot as plt\n",
    "import matplotlib.colors as mcolors\n",
    "import seaborn as sb\n",
    "import pandas as pd\n",
    "from sklearn.model_selection import GridSearchCV, RandomizedSearchCV, train_test_split\n",
    "from sklearn.ensemble import RandomForestRegressor\n",
    "from sklearn.metrics import mean_squared_error, mean_absolute_error"
   ]
  },
  {
   "cell_type": "markdown",
   "metadata": {},
   "source": [
    "### 3) Prediction and Regression\n",
    "#### 3.1) Random Forest\n",
    "- - -"
   ]
  },
  {
   "cell_type": "code",
   "execution_count": 2,
   "metadata": {},
   "outputs": [
    {
     "data": {
      "text/html": [
       "<div>\n",
       "<style scoped>\n",
       "    .dataframe tbody tr th:only-of-type {\n",
       "        vertical-align: middle;\n",
       "    }\n",
       "\n",
       "    .dataframe tbody tr th {\n",
       "        vertical-align: top;\n",
       "    }\n",
       "\n",
       "    .dataframe thead th {\n",
       "        text-align: right;\n",
       "    }\n",
       "</style>\n",
       "<table border=\"1\" class=\"dataframe\">\n",
       "  <thead>\n",
       "    <tr style=\"text-align: right;\">\n",
       "      <th></th>\n",
       "      <th>Country/Region</th>\n",
       "      <th>Lat</th>\n",
       "      <th>Lat_norm</th>\n",
       "      <th>Long</th>\n",
       "      <th>Long_norm</th>\n",
       "      <th>Date</th>\n",
       "      <th>Num_days_from_begin</th>\n",
       "      <th>Num_days_from_begin_norm</th>\n",
       "      <th>Confirmed</th>\n",
       "      <th>Deaths</th>\n",
       "      <th>Recovered</th>\n",
       "      <th>Confirmed_inc</th>\n",
       "      <th>Confirmed_inc_norm</th>\n",
       "      <th>Deaths_inc</th>\n",
       "      <th>Deaths_inc_norm</th>\n",
       "      <th>Recovered_inc</th>\n",
       "      <th>Recovered_inc_norm</th>\n",
       "    </tr>\n",
       "  </thead>\n",
       "  <tbody>\n",
       "    <tr>\n",
       "      <th>0</th>\n",
       "      <td>Afghanistan</td>\n",
       "      <td>33.0000</td>\n",
       "      <td>0.471083</td>\n",
       "      <td>65.0000</td>\n",
       "      <td>0.597360</td>\n",
       "      <td>2020-01-22</td>\n",
       "      <td>0</td>\n",
       "      <td>-1.717183</td>\n",
       "      <td>0</td>\n",
       "      <td>0</td>\n",
       "      <td>0.0</td>\n",
       "      <td>0.0</td>\n",
       "      <td>-0.117725</td>\n",
       "      <td>0.0</td>\n",
       "      <td>-0.110666</td>\n",
       "      <td>0.0</td>\n",
       "      <td>-0.121130</td>\n",
       "    </tr>\n",
       "    <tr>\n",
       "      <th>1</th>\n",
       "      <td>Albania</td>\n",
       "      <td>41.1533</td>\n",
       "      <td>0.798304</td>\n",
       "      <td>20.1683</td>\n",
       "      <td>-0.039787</td>\n",
       "      <td>2020-01-22</td>\n",
       "      <td>0</td>\n",
       "      <td>-1.717183</td>\n",
       "      <td>0</td>\n",
       "      <td>0</td>\n",
       "      <td>0.0</td>\n",
       "      <td>0.0</td>\n",
       "      <td>-0.117725</td>\n",
       "      <td>0.0</td>\n",
       "      <td>-0.110666</td>\n",
       "      <td>0.0</td>\n",
       "      <td>-0.121130</td>\n",
       "    </tr>\n",
       "    <tr>\n",
       "      <th>2</th>\n",
       "      <td>Alberta (Canada)</td>\n",
       "      <td>53.9333</td>\n",
       "      <td>1.311212</td>\n",
       "      <td>-116.5765</td>\n",
       "      <td>-1.983201</td>\n",
       "      <td>2020-01-22</td>\n",
       "      <td>0</td>\n",
       "      <td>-1.717183</td>\n",
       "      <td>0</td>\n",
       "      <td>0</td>\n",
       "      <td>NaN</td>\n",
       "      <td>0.0</td>\n",
       "      <td>-0.117725</td>\n",
       "      <td>0.0</td>\n",
       "      <td>-0.110666</td>\n",
       "      <td>NaN</td>\n",
       "      <td>NaN</td>\n",
       "    </tr>\n",
       "    <tr>\n",
       "      <th>3</th>\n",
       "      <td>Algeria</td>\n",
       "      <td>28.0339</td>\n",
       "      <td>0.271776</td>\n",
       "      <td>1.6596</td>\n",
       "      <td>-0.302833</td>\n",
       "      <td>2020-01-22</td>\n",
       "      <td>0</td>\n",
       "      <td>-1.717183</td>\n",
       "      <td>0</td>\n",
       "      <td>0</td>\n",
       "      <td>0.0</td>\n",
       "      <td>0.0</td>\n",
       "      <td>-0.117725</td>\n",
       "      <td>0.0</td>\n",
       "      <td>-0.110666</td>\n",
       "      <td>0.0</td>\n",
       "      <td>-0.121130</td>\n",
       "    </tr>\n",
       "    <tr>\n",
       "      <th>4</th>\n",
       "      <td>Andorra</td>\n",
       "      <td>42.5063</td>\n",
       "      <td>0.852605</td>\n",
       "      <td>1.5218</td>\n",
       "      <td>-0.304791</td>\n",
       "      <td>2020-01-22</td>\n",
       "      <td>0</td>\n",
       "      <td>-1.717183</td>\n",
       "      <td>0</td>\n",
       "      <td>0</td>\n",
       "      <td>0.0</td>\n",
       "      <td>0.0</td>\n",
       "      <td>-0.117725</td>\n",
       "      <td>0.0</td>\n",
       "      <td>-0.110666</td>\n",
       "      <td>0.0</td>\n",
       "      <td>-0.121130</td>\n",
       "    </tr>\n",
       "    <tr>\n",
       "      <th>...</th>\n",
       "      <td>...</td>\n",
       "      <td>...</td>\n",
       "      <td>...</td>\n",
       "      <td>...</td>\n",
       "      <td>...</td>\n",
       "      <td>...</td>\n",
       "      <td>...</td>\n",
       "      <td>...</td>\n",
       "      <td>...</td>\n",
       "      <td>...</td>\n",
       "      <td>...</td>\n",
       "      <td>...</td>\n",
       "      <td>...</td>\n",
       "      <td>...</td>\n",
       "      <td>...</td>\n",
       "      <td>...</td>\n",
       "      <td>...</td>\n",
       "    </tr>\n",
       "    <tr>\n",
       "      <th>30619</th>\n",
       "      <td>Yukon (Canada)</td>\n",
       "      <td>64.2823</td>\n",
       "      <td>1.726554</td>\n",
       "      <td>-135.0000</td>\n",
       "      <td>-2.245035</td>\n",
       "      <td>2020-05-16</td>\n",
       "      <td>115</td>\n",
       "      <td>1.717183</td>\n",
       "      <td>11</td>\n",
       "      <td>0</td>\n",
       "      <td>NaN</td>\n",
       "      <td>0.0</td>\n",
       "      <td>-0.117725</td>\n",
       "      <td>0.0</td>\n",
       "      <td>-0.110666</td>\n",
       "      <td>NaN</td>\n",
       "      <td>NaN</td>\n",
       "    </tr>\n",
       "    <tr>\n",
       "      <th>30620</th>\n",
       "      <td>Yunnan (China)</td>\n",
       "      <td>24.9740</td>\n",
       "      <td>0.148971</td>\n",
       "      <td>101.4870</td>\n",
       "      <td>1.115912</td>\n",
       "      <td>2020-05-16</td>\n",
       "      <td>115</td>\n",
       "      <td>1.717183</td>\n",
       "      <td>185</td>\n",
       "      <td>2</td>\n",
       "      <td>183.0</td>\n",
       "      <td>0.0</td>\n",
       "      <td>-0.117725</td>\n",
       "      <td>0.0</td>\n",
       "      <td>-0.110666</td>\n",
       "      <td>0.0</td>\n",
       "      <td>-0.121130</td>\n",
       "    </tr>\n",
       "    <tr>\n",
       "      <th>30621</th>\n",
       "      <td>Zambia</td>\n",
       "      <td>-15.4167</td>\n",
       "      <td>-1.472053</td>\n",
       "      <td>28.2833</td>\n",
       "      <td>0.075543</td>\n",
       "      <td>2020-05-16</td>\n",
       "      <td>115</td>\n",
       "      <td>1.717183</td>\n",
       "      <td>679</td>\n",
       "      <td>7</td>\n",
       "      <td>183.0</td>\n",
       "      <td>25.0</td>\n",
       "      <td>-0.098276</td>\n",
       "      <td>0.0</td>\n",
       "      <td>-0.110666</td>\n",
       "      <td>59.0</td>\n",
       "      <td>0.003578</td>\n",
       "    </tr>\n",
       "    <tr>\n",
       "      <th>30622</th>\n",
       "      <td>Zhejiang (China)</td>\n",
       "      <td>29.1832</td>\n",
       "      <td>0.317901</td>\n",
       "      <td>120.0934</td>\n",
       "      <td>1.380346</td>\n",
       "      <td>2020-05-16</td>\n",
       "      <td>115</td>\n",
       "      <td>1.717183</td>\n",
       "      <td>1268</td>\n",
       "      <td>1</td>\n",
       "      <td>1267.0</td>\n",
       "      <td>0.0</td>\n",
       "      <td>-0.117725</td>\n",
       "      <td>0.0</td>\n",
       "      <td>-0.110666</td>\n",
       "      <td>0.0</td>\n",
       "      <td>-0.121130</td>\n",
       "    </tr>\n",
       "    <tr>\n",
       "      <th>30623</th>\n",
       "      <td>Zimbabwe</td>\n",
       "      <td>-20.0000</td>\n",
       "      <td>-1.655997</td>\n",
       "      <td>30.0000</td>\n",
       "      <td>0.099941</td>\n",
       "      <td>2020-05-16</td>\n",
       "      <td>115</td>\n",
       "      <td>1.717183</td>\n",
       "      <td>42</td>\n",
       "      <td>4</td>\n",
       "      <td>13.0</td>\n",
       "      <td>0.0</td>\n",
       "      <td>-0.117725</td>\n",
       "      <td>0.0</td>\n",
       "      <td>-0.110666</td>\n",
       "      <td>0.0</td>\n",
       "      <td>-0.121130</td>\n",
       "    </tr>\n",
       "  </tbody>\n",
       "</table>\n",
       "<p>30624 rows × 17 columns</p>\n",
       "</div>"
      ],
      "text/plain": [
       "         Country/Region      Lat  Lat_norm      Long  Long_norm        Date  \\\n",
       "0           Afghanistan  33.0000  0.471083   65.0000   0.597360  2020-01-22   \n",
       "1               Albania  41.1533  0.798304   20.1683  -0.039787  2020-01-22   \n",
       "2      Alberta (Canada)  53.9333  1.311212 -116.5765  -1.983201  2020-01-22   \n",
       "3               Algeria  28.0339  0.271776    1.6596  -0.302833  2020-01-22   \n",
       "4               Andorra  42.5063  0.852605    1.5218  -0.304791  2020-01-22   \n",
       "...                 ...      ...       ...       ...        ...         ...   \n",
       "30619    Yukon (Canada)  64.2823  1.726554 -135.0000  -2.245035  2020-05-16   \n",
       "30620    Yunnan (China)  24.9740  0.148971  101.4870   1.115912  2020-05-16   \n",
       "30621            Zambia -15.4167 -1.472053   28.2833   0.075543  2020-05-16   \n",
       "30622  Zhejiang (China)  29.1832  0.317901  120.0934   1.380346  2020-05-16   \n",
       "30623          Zimbabwe -20.0000 -1.655997   30.0000   0.099941  2020-05-16   \n",
       "\n",
       "       Num_days_from_begin  Num_days_from_begin_norm  Confirmed  Deaths  \\\n",
       "0                        0                 -1.717183          0       0   \n",
       "1                        0                 -1.717183          0       0   \n",
       "2                        0                 -1.717183          0       0   \n",
       "3                        0                 -1.717183          0       0   \n",
       "4                        0                 -1.717183          0       0   \n",
       "...                    ...                       ...        ...     ...   \n",
       "30619                  115                  1.717183         11       0   \n",
       "30620                  115                  1.717183        185       2   \n",
       "30621                  115                  1.717183        679       7   \n",
       "30622                  115                  1.717183       1268       1   \n",
       "30623                  115                  1.717183         42       4   \n",
       "\n",
       "       Recovered  Confirmed_inc  Confirmed_inc_norm  Deaths_inc  \\\n",
       "0            0.0            0.0           -0.117725         0.0   \n",
       "1            0.0            0.0           -0.117725         0.0   \n",
       "2            NaN            0.0           -0.117725         0.0   \n",
       "3            0.0            0.0           -0.117725         0.0   \n",
       "4            0.0            0.0           -0.117725         0.0   \n",
       "...          ...            ...                 ...         ...   \n",
       "30619        NaN            0.0           -0.117725         0.0   \n",
       "30620      183.0            0.0           -0.117725         0.0   \n",
       "30621      183.0           25.0           -0.098276         0.0   \n",
       "30622     1267.0            0.0           -0.117725         0.0   \n",
       "30623       13.0            0.0           -0.117725         0.0   \n",
       "\n",
       "       Deaths_inc_norm  Recovered_inc  Recovered_inc_norm  \n",
       "0            -0.110666            0.0           -0.121130  \n",
       "1            -0.110666            0.0           -0.121130  \n",
       "2            -0.110666            NaN                 NaN  \n",
       "3            -0.110666            0.0           -0.121130  \n",
       "4            -0.110666            0.0           -0.121130  \n",
       "...                ...            ...                 ...  \n",
       "30619        -0.110666            NaN                 NaN  \n",
       "30620        -0.110666            0.0           -0.121130  \n",
       "30621        -0.110666           59.0            0.003578  \n",
       "30622        -0.110666            0.0           -0.121130  \n",
       "30623        -0.110666            0.0           -0.121130  \n",
       "\n",
       "[30624 rows x 17 columns]"
      ]
     },
     "execution_count": 2,
     "metadata": {},
     "output_type": "execute_result"
    }
   ],
   "source": [
    "# load previously processed information into dataframe\n",
    "df = pd.read_csv('data/covid_19_world_processed.csv', delimiter=',')\n",
    "df"
   ]
  },
  {
   "cell_type": "code",
   "execution_count": 3,
   "metadata": {},
   "outputs": [
    {
     "data": {
      "text/plain": [
       "array([[ 0.47108303,  0.59735963, -1.71718314],\n",
       "       [ 0.79830423, -0.03978737, -1.71718314],\n",
       "       [ 1.3112115 , -1.98320106, -1.71718314],\n",
       "       ...,\n",
       "       [-1.47205293,  0.07554281,  1.71718314],\n",
       "       [ 0.31790115,  1.38034566,  1.71718314],\n",
       "       [-1.65599721,  0.09994051,  1.71718314]])"
      ]
     },
     "execution_count": 3,
     "metadata": {},
     "output_type": "execute_result"
    }
   ],
   "source": [
    "# get the inputs of the data for the machine learning algorithm\n",
    "inputs = df[[\"Lat_norm\", \"Long_norm\", \"Num_days_from_begin_norm\"]].values\n",
    "inputs"
   ]
  },
  {
   "cell_type": "markdown",
   "metadata": {},
   "source": [
    "#### 3.1.1) Regression for Confirmed Cases\n",
    "- - -"
   ]
  },
  {
   "cell_type": "code",
   "execution_count": 4,
   "metadata": {},
   "outputs": [
    {
     "data": {
      "text/plain": [
       "array([   0,    0,    0, ...,  679, 1268,   42])"
      ]
     },
     "execution_count": 4,
     "metadata": {},
     "output_type": "execute_result"
    }
   ],
   "source": [
    "# get the output for the machine learning algorithm (confirmed cases)\n",
    "outputs = df[\"Confirmed\"].values\n",
    "outputs"
   ]
  },
  {
   "cell_type": "code",
   "execution_count": 5,
   "metadata": {},
   "outputs": [],
   "source": [
    "# split the data into training and testing sets\n",
    "in_conf_train, in_conf_test, out_conf_train, out_conf_test = train_test_split(inputs, outputs, test_size=0.25, shuffle=True)\n",
    "\n",
    "# NOTE: actually, the \"testing\" set will be used for \"manual\" testing and plotting, while the training set will be\n",
    "# further divided in training and testing sets, in order to perform k-fold cross validation."
   ]
  },
  {
   "cell_type": "code",
   "execution_count": 6,
   "metadata": {},
   "outputs": [
    {
     "data": {
      "text/plain": [
       "{'bootstrap': True,\n",
       " 'ccp_alpha': 0.0,\n",
       " 'criterion': 'mse',\n",
       " 'max_depth': None,\n",
       " 'max_features': 'auto',\n",
       " 'max_leaf_nodes': None,\n",
       " 'max_samples': None,\n",
       " 'min_impurity_decrease': 0.0,\n",
       " 'min_impurity_split': None,\n",
       " 'min_samples_leaf': 1,\n",
       " 'min_samples_split': 2,\n",
       " 'min_weight_fraction_leaf': 0.0,\n",
       " 'n_estimators': 100,\n",
       " 'n_jobs': None,\n",
       " 'oob_score': False,\n",
       " 'random_state': None,\n",
       " 'verbose': 0,\n",
       " 'warm_start': False}"
      ]
     },
     "execution_count": 6,
     "metadata": {},
     "output_type": "execute_result"
    }
   ],
   "source": [
    "# create Random Forest Regressor instance, and check the hyper parameters\n",
    "rf = RandomForestRegressor()\n",
    "rf.get_params()"
   ]
  },
  {
   "cell_type": "code",
   "execution_count": 7,
   "metadata": {},
   "outputs": [
    {
     "name": "stdout",
     "output_type": "stream",
     "text": [
      "Fitting 3 folds for each of 30 candidates, totalling 90 fits\n"
     ]
    },
    {
     "name": "stderr",
     "output_type": "stream",
     "text": [
      "[Parallel(n_jobs=-1)]: Using backend LokyBackend with 4 concurrent workers.\n",
      "[Parallel(n_jobs=-1)]: Done  42 tasks      | elapsed:  2.4min\n",
      "[Parallel(n_jobs=-1)]: Done  90 out of  90 | elapsed:  6.8min finished\n"
     ]
    },
    {
     "name": "stdout",
     "output_type": "stream",
     "text": [
      "Best score: -22378811.94064403\n",
      "Best parameters: {'n_estimators': 300, 'min_samples_split': 8, 'min_samples_leaf': 3, 'max_features': 2, 'max_depth': 90, 'bootstrap': True}\n"
     ]
    }
   ],
   "source": [
    "# do hyper parameter tuning with the Random Forest, using cross validation\n",
    "param_grid = {\n",
    "    'bootstrap': [True],\n",
    "    'max_depth': [80, 90, 100, 110],\n",
    "    'max_features': [2, 3],\n",
    "    'min_samples_leaf': [3, 4, 5],\n",
    "    'min_samples_split': [8, 10, 12],\n",
    "    'n_estimators': [100, 200, 300, 1000]\n",
    "}\n",
    "\n",
    "# search = GridSearchCV(estimator=rf, param_grid=param_grid, cv=3, n_jobs=-1, verbose=2)\n",
    "search = RandomizedSearchCV(rf, param_grid, scoring='neg_mean_squared_error', cv=3, return_train_score=True, n_jobs=-1, n_iter=30, verbose=1)\n",
    "\n",
    "search.fit(in_conf_train, out_conf_train)\n",
    "print('Best score: {}'.format(search.best_score_))\n",
    "print('Best parameters: {}'.format(search.best_params_))\n",
    "search.best_estimator_\n",
    "rf_estimator = search.best_estimator_\n",
    "# rf_estimator = RandomForestRegressor(bootstrap=True, ccp_alpha=0.0, criterion='mse',\n",
    "                      # max_depth=100, max_features=3, max_leaf_nodes=None,\n",
    "                      # max_samples=None, min_impurity_decrease=0.0,\n",
    "                      # min_impurity_split=None, min_samples_leaf=3,\n",
    "                      # min_samples_split=8, min_weight_fraction_leaf=0.0,\n",
    "                      # n_estimators=100, n_jobs=None, oob_score=False,\n",
    "                      # random_state=None, verbose=0, warm_start=False)"
   ]
  },
  {
   "cell_type": "code",
   "execution_count": 18,
   "metadata": {},
   "outputs": [
    {
     "name": "stdout",
     "output_type": "stream",
     "text": [
      "MAE: 273.6756173389962\n",
      "MSE: 5855114.819522048\n"
     ]
    },
    {
     "data": {
      "image/png": "[encoded data removed]",
      "text/plain": [
       "<Figure size 432x288 with 1 Axes>"
      ]
     },
     "metadata": {
      "needs_background": "light"
     },
     "output_type": "display_data"
    }
   ],
   "source": [
    "rf_estimator_pred = rf_estimator.predict(in_conf_test)\n",
    "plt.plot(out_conf_test)\n",
    "plt.plot(rf_estimator_pred)\n",
    "plt.legend(['Test Data', 'Random Forest Predictions'])\n",
    "print('MAE:', mean_absolute_error(out_conf_test, rf_estimator_pred))\n",
    "print('MSE:',mean_squared_error(out_conf_test, rf_estimator_pred))"
   ]
  },
  {
   "cell_type": "code",
   "execution_count": 10,
   "metadata": {},
   "outputs": [
    {
     "data": {
      "text/plain": [
       "(array([ 1.,  2.,  5.,  6.,  9., 13., 31., 53., 57., 23.]),\n",
       " array([0.98755225, 0.98863781, 0.98972336, 0.99080891, 0.99189446,\n",
       "        0.99298001, 0.99406557, 0.99515112, 0.99623667, 0.99732222,\n",
       "        0.99840777]),\n",
       " <a list of 10 Patch objects>)"
      ]
     },
     "execution_count": 10,
     "metadata": {},
     "output_type": "execute_result"
    },
    {
     "data": {
      "image/png": "[encoded data removed]",
      "text/plain": [
       "<Figure size 432x288 with 1 Axes>"
      ]
     },
     "metadata": {
      "needs_background": "light"
     },
     "output_type": "display_data"
    }
   ],
   "source": [
    "model_accuracies = []\n",
    "\n",
    "# range estava a 1000\n",
    "for repetition in range(200):\n",
    "    (accuracy_in_train,\n",
    "     accuracy_in_test,\n",
    "     accuracy_out_train,\n",
    "     accuracy_out_test) = train_test_split(inputs, outputs, test_size=0.25, shuffle=True)\n",
    "    \n",
    "    rfr = RandomForestRegressor(bootstrap=True, ccp_alpha=0.0, criterion='mse',\n",
    "                      max_depth=100, max_features=3, max_leaf_nodes=None,\n",
    "                      max_samples=None, min_impurity_decrease=0.0,\n",
    "                      min_impurity_split=None, min_samples_leaf=3,\n",
    "                      min_samples_split=8, min_weight_fraction_leaf=0.0,\n",
    "                      n_estimators=100, n_jobs=None, oob_score=False,\n",
    "                      random_state=None, verbose=0, warm_start=False)\n",
    "    rfr.fit(accuracy_in_train, accuracy_out_train)\n",
    "    classifier_accuracy = rfr.score(accuracy_in_test, accuracy_out_test)\n",
    "    model_accuracies.append(classifier_accuracy)\n",
    "    \n",
    "plt.hist(model_accuracies)"
   ]
  },
  {
   "cell_type": "code",
   "execution_count": 11,
   "metadata": {},
   "outputs": [
    {
     "data": {
      "text/plain": [
       "<matplotlib.legend.Legend at 0x1a28654828>"
      ]
     },
     "execution_count": 11,
     "metadata": {},
     "output_type": "execute_result"
    },
    {
     "data": {
      "image/png": "[encoded data removed]",
      "text/plain": [
       "<Figure size 432x288 with 1 Axes>"
      ]
     },
     "metadata": {
      "needs_background": "light"
     },
     "output_type": "display_data"
    }
   ],
   "source": [
    "usa_df = df.loc[df[\"Country/Region\"] == \"US\"]\n",
    "usa_inputs = usa_df[[\"Lat_norm\", \"Long_norm\", \"Num_days_from_begin_norm\"]].values\n",
    "usa_outputs = usa_df[\"Confirmed\"].values\n",
    "days_list = df[\"Num_days_from_begin\"].unique()\n",
    "usa_pred_output = rf_estimator.predict(usa_inputs) \n",
    "\n",
    "first_day = df[\"Date\"].min()\n",
    "last_day = df[\"Date\"].max()\n",
    "plt.plot(days_list, usa_outputs, color='blue', label=\"Actual Confirmed Cases\")\n",
    "plt.plot(days_list, usa_pred_output, color='green', label=\"Predicted (Random Forest)\")\n",
    "plt.xlabel(\"Number of days since {}\".format(first_day))\n",
    "plt.ylabel(\"# of Cases\")\n",
    "plt.title(\"USA Confirmed Cases vs Prediction from Random Forest Regressor (as of {})\".format(last_day))\n",
    "plt.legend()"
   ]
  },
  {
   "cell_type": "code",
   "execution_count": 12,
   "metadata": {},
   "outputs": [
    {
     "data": {
      "text/plain": [
       "array([[  33.    ,   65.    ,    0.    ],\n",
       "       [  41.1533,   20.1683,    0.    ],\n",
       "       [  53.9333, -116.5765,    0.    ],\n",
       "       ...,\n",
       "       [ -15.4167,   28.2833,  115.    ],\n",
       "       [  29.1832,  120.0934,  115.    ],\n",
       "       [ -20.    ,   30.    ,  115.    ]])"
      ]
     },
     "execution_count": 12,
     "metadata": {},
     "output_type": "execute_result"
    }
   ],
   "source": [
    "# do model with non normalized values, for comparison\n",
    "inputs_non_norm = df[[\"Lat\", \"Long\", \"Num_days_from_begin\"]].values\n",
    "inputs_non_norm"
   ]
  },
  {
   "cell_type": "code",
   "execution_count": 13,
   "metadata": {},
   "outputs": [],
   "source": [
    "# divide in training and testing sets\n",
    "non_norm_in_conf_train, non_norm_in_conf_test, non_norm_out_conf_train, non_norm_out_conf_test = train_test_split(inputs_non_norm, outputs, test_size=0.25, shuffle=True)"
   ]
  },
  {
   "cell_type": "code",
   "execution_count": 14,
   "metadata": {},
   "outputs": [
    {
     "name": "stdout",
     "output_type": "stream",
     "text": [
      "Fitting 3 folds for each of 30 candidates, totalling 90 fits\n"
     ]
    },
    {
     "name": "stderr",
     "output_type": "stream",
     "text": [
      "[Parallel(n_jobs=-1)]: Using backend LokyBackend with 4 concurrent workers.\n",
      "[Parallel(n_jobs=-1)]: Done  42 tasks      | elapsed:  4.5min\n",
      "[Parallel(n_jobs=-1)]: Done  90 out of  90 | elapsed:  8.2min finished\n"
     ]
    },
    {
     "name": "stdout",
     "output_type": "stream",
     "text": [
      "Best score: -12572205.132098956\n",
      "Best parameters: {'n_estimators': 200, 'min_samples_split': 8, 'min_samples_leaf': 3, 'max_features': 2, 'max_depth': 110, 'bootstrap': True}\n"
     ]
    }
   ],
   "source": [
    "# create Random Forest Regressor instance, and check the hyper parameters\n",
    "rf_non_norm = RandomForestRegressor()\n",
    "rf_non_norm.get_params()\n",
    "\n",
    "# do hyper parameter tuning with the Random Forest, using cross validation\n",
    "param_grid = {\n",
    "    'bootstrap': [True],\n",
    "    'max_depth': [80, 90, 100, 110],\n",
    "    'max_features': [2, 3],\n",
    "    'min_samples_leaf': [3, 4, 5],\n",
    "    'min_samples_split': [8, 10, 12],\n",
    "    'n_estimators': [100, 200, 300, 1000]\n",
    "}\n",
    "\n",
    "# search_non_norm = GridSearchCV(estimator=rf, param_grid=param_grid, cv=3, n_jobs=-1, verbose=2)\n",
    "search_non_norm = RandomizedSearchCV(rf, param_grid, scoring='neg_mean_squared_error', cv=3, return_train_score=True, n_jobs=-1, n_iter=30, verbose=1)\n",
    "\n",
    "search_non_norm.fit(non_norm_in_conf_train, non_norm_out_conf_train)\n",
    "print('Best score: {}'.format(search_non_norm.best_score_))\n",
    "print('Best parameters: {}'.format(search_non_norm.best_params_))\n",
    "search_non_norm.best_estimator_\n",
    "rf_estimator_non_norm = search_non_norm.best_estimator_"
   ]
  },
  {
   "cell_type": "code",
   "execution_count": 17,
   "metadata": {},
   "outputs": [
    {
     "name": "stdout",
     "output_type": "stream",
     "text": [
      "MAE: 294.2209338562073\n",
      "MSE: 8097472.693059897\n"
     ]
    },
    {
     "data": {
      "image/png": "[encoded data removed]",
      "text/plain": [
       "<Figure size 432x288 with 1 Axes>"
      ]
     },
     "metadata": {
      "needs_background": "light"
     },
     "output_type": "display_data"
    }
   ],
   "source": [
    "# rf_estimator_non_norm.fit(non_norm_in_conf_train, non_norm_out_conf_train)\n",
    "rf_estimator_pred_non_norm = rf_estimator_non_norm.predict(non_norm_in_conf_test)\n",
    "plt.plot(non_norm_out_conf_test)\n",
    "plt.plot(rf_estimator_pred_non_norm)\n",
    "plt.legend(['Test Data', 'Random Forest Predictions (Non Normalized)'])\n",
    "print('MAE:', mean_absolute_error(non_norm_out_conf_test, rf_estimator_pred_non_norm))\n",
    "print('MSE:',mean_squared_error(non_norm_out_conf_test, rf_estimator_pred_non_norm))"
   ]
  },
  {
   "cell_type": "code",
   "execution_count": 16,
   "metadata": {},
   "outputs": [
    {
     "data": {
      "text/plain": [
       "<matplotlib.legend.Legend at 0x1a24dab438>"
      ]
     },
     "execution_count": 16,
     "metadata": {},
     "output_type": "execute_result"
    },
    {
     "data": {
      "image/png": "[encoded data removed]",
      "text/plain": [
       "<Figure size 432x288 with 1 Axes>"
      ]
     },
     "metadata": {
      "needs_background": "light"
     },
     "output_type": "display_data"
    }
   ],
   "source": [
    "usa_df = df.loc[df[\"Country/Region\"] == \"US\"]\n",
    "usa_inputs_non_norm = usa_df[[\"Lat\", \"Long\", \"Num_days_from_begin\"]].values\n",
    "usa_pred_output_non_norm = rf_estimator_non_norm.predict(usa_inputs_non_norm)\n",
    "\n",
    "plt.plot(days_list, usa_outputs, color='blue', label=\"Actual Confirmed Cases\")\n",
    "plt.plot(days_list, usa_pred_output_non_norm, color='green', label=\"Predicted (Random Forest)\")\n",
    "plt.xlabel(\"Number of days since {}\".format(first_day))\n",
    "plt.ylabel(\"# of Cases\")\n",
    "plt.title(\"USA Confirmed Cases vs Prediction (Non normalized inputs) from Random Forest Regressor (as of {})\".format(last_day))\n",
    "plt.legend()"
   ]
  }
 ],
 "metadata": {
  "kernelspec": {
   "display_name": "Python 3",
   "language": "python",
   "name": "python3"
  },
  "language_info": {
   "codemirror_mode": {
    "name": "ipython",
    "version": 3
   },
   "file_extension": ".py",
   "mimetype": "text/x-python",
   "name": "python",
   "nbconvert_exporter": "python",
   "pygments_lexer": "ipython3",
   "version": "3.7.0"
  }
 },
 "nbformat": 4,
 "nbformat_minor": 4
}

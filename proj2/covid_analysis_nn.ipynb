{
 "cells": [
  {
   "cell_type": "code",
   "execution_count": 81,
   "metadata": {},
   "outputs": [],
   "source": [
    "%matplotlib inline\n",
    "\n",
    "import numpy as np\n",
    "import matplotlib.pyplot as plt\n",
    "import matplotlib.colors as mcolors\n",
    "import seaborn as sb\n",
    "import pandas as pd\n",
    "from sklearn.model_selection import GridSearchCV, train_test_split\n",
    "from sklearn.neural_network import MLPRegressor\n",
    "from sklearn.metrics import mean_squared_error, mean_absolute_error"
   ]
  },
  {
   "cell_type": "markdown",
   "metadata": {},
   "source": [
    "#### 3.2) Neural Networks\n",
    "- - -"
   ]
  },
  {
   "cell_type": "code",
   "execution_count": 82,
   "metadata": {},
   "outputs": [
    {
     "data": {
      "text/html": [
       "<div>\n",
       "<style scoped>\n",
       "    .dataframe tbody tr th:only-of-type {\n",
       "        vertical-align: middle;\n",
       "    }\n",
       "\n",
       "    .dataframe tbody tr th {\n",
       "        vertical-align: top;\n",
       "    }\n",
       "\n",
       "    .dataframe thead th {\n",
       "        text-align: right;\n",
       "    }\n",
       "</style>\n",
       "<table border=\"1\" class=\"dataframe\">\n",
       "  <thead>\n",
       "    <tr style=\"text-align: right;\">\n",
       "      <th></th>\n",
       "      <th>Country/Region</th>\n",
       "      <th>Lat</th>\n",
       "      <th>Lat_norm</th>\n",
       "      <th>Long</th>\n",
       "      <th>Long_norm</th>\n",
       "      <th>Date</th>\n",
       "      <th>Num_days_from_begin</th>\n",
       "      <th>Num_days_from_begin_norm</th>\n",
       "      <th>Confirmed</th>\n",
       "      <th>Deaths</th>\n",
       "      <th>Recovered</th>\n",
       "    </tr>\n",
       "  </thead>\n",
       "  <tbody>\n",
       "    <tr>\n",
       "      <th>0</th>\n",
       "      <td>Afghanistan</td>\n",
       "      <td>33.000000</td>\n",
       "      <td>0.683333</td>\n",
       "      <td>65.000000</td>\n",
       "      <td>0.680556</td>\n",
       "      <td>2020-01-22</td>\n",
       "      <td>0</td>\n",
       "      <td>0.000000</td>\n",
       "      <td>0</td>\n",
       "      <td>0</td>\n",
       "      <td>0.0</td>\n",
       "    </tr>\n",
       "    <tr>\n",
       "      <th>1</th>\n",
       "      <td>Albania</td>\n",
       "      <td>41.153300</td>\n",
       "      <td>0.728629</td>\n",
       "      <td>20.168300</td>\n",
       "      <td>0.556023</td>\n",
       "      <td>2020-01-22</td>\n",
       "      <td>0</td>\n",
       "      <td>0.000000</td>\n",
       "      <td>0</td>\n",
       "      <td>0</td>\n",
       "      <td>0.0</td>\n",
       "    </tr>\n",
       "    <tr>\n",
       "      <th>2</th>\n",
       "      <td>Algeria</td>\n",
       "      <td>28.033900</td>\n",
       "      <td>0.655744</td>\n",
       "      <td>1.659600</td>\n",
       "      <td>0.504610</td>\n",
       "      <td>2020-01-22</td>\n",
       "      <td>0</td>\n",
       "      <td>0.000000</td>\n",
       "      <td>0</td>\n",
       "      <td>0</td>\n",
       "      <td>0.0</td>\n",
       "    </tr>\n",
       "    <tr>\n",
       "      <th>3</th>\n",
       "      <td>Andorra</td>\n",
       "      <td>42.506300</td>\n",
       "      <td>0.736146</td>\n",
       "      <td>1.521800</td>\n",
       "      <td>0.504227</td>\n",
       "      <td>2020-01-22</td>\n",
       "      <td>0</td>\n",
       "      <td>0.000000</td>\n",
       "      <td>0</td>\n",
       "      <td>0</td>\n",
       "      <td>0.0</td>\n",
       "    </tr>\n",
       "    <tr>\n",
       "      <th>4</th>\n",
       "      <td>Angola</td>\n",
       "      <td>-11.202700</td>\n",
       "      <td>0.437763</td>\n",
       "      <td>17.873900</td>\n",
       "      <td>0.549650</td>\n",
       "      <td>2020-01-22</td>\n",
       "      <td>0</td>\n",
       "      <td>0.000000</td>\n",
       "      <td>0</td>\n",
       "      <td>0</td>\n",
       "      <td>0.0</td>\n",
       "    </tr>\n",
       "    <tr>\n",
       "      <th>...</th>\n",
       "      <td>...</td>\n",
       "      <td>...</td>\n",
       "      <td>...</td>\n",
       "      <td>...</td>\n",
       "      <td>...</td>\n",
       "      <td>...</td>\n",
       "      <td>...</td>\n",
       "      <td>...</td>\n",
       "      <td>...</td>\n",
       "      <td>...</td>\n",
       "      <td>...</td>\n",
       "    </tr>\n",
       "    <tr>\n",
       "      <th>22679</th>\n",
       "      <td>West Bank and Gaza</td>\n",
       "      <td>31.952200</td>\n",
       "      <td>0.677512</td>\n",
       "      <td>35.233200</td>\n",
       "      <td>0.597870</td>\n",
       "      <td>2020-05-07</td>\n",
       "      <td>106</td>\n",
       "      <td>0.990654</td>\n",
       "      <td>375</td>\n",
       "      <td>2</td>\n",
       "      <td>176.0</td>\n",
       "    </tr>\n",
       "    <tr>\n",
       "      <th>22680</th>\n",
       "      <td>Western Sahara</td>\n",
       "      <td>24.215500</td>\n",
       "      <td>0.634531</td>\n",
       "      <td>-12.885800</td>\n",
       "      <td>0.464206</td>\n",
       "      <td>2020-05-07</td>\n",
       "      <td>106</td>\n",
       "      <td>0.990654</td>\n",
       "      <td>6</td>\n",
       "      <td>0</td>\n",
       "      <td>5.0</td>\n",
       "    </tr>\n",
       "    <tr>\n",
       "      <th>22681</th>\n",
       "      <td>Yemen</td>\n",
       "      <td>15.552727</td>\n",
       "      <td>0.586404</td>\n",
       "      <td>48.516388</td>\n",
       "      <td>0.634768</td>\n",
       "      <td>2020-05-07</td>\n",
       "      <td>106</td>\n",
       "      <td>0.990654</td>\n",
       "      <td>25</td>\n",
       "      <td>5</td>\n",
       "      <td>1.0</td>\n",
       "    </tr>\n",
       "    <tr>\n",
       "      <th>22682</th>\n",
       "      <td>Zambia</td>\n",
       "      <td>-15.416700</td>\n",
       "      <td>0.414352</td>\n",
       "      <td>28.283300</td>\n",
       "      <td>0.578565</td>\n",
       "      <td>2020-05-07</td>\n",
       "      <td>106</td>\n",
       "      <td>0.990654</td>\n",
       "      <td>153</td>\n",
       "      <td>4</td>\n",
       "      <td>103.0</td>\n",
       "    </tr>\n",
       "    <tr>\n",
       "      <th>22683</th>\n",
       "      <td>Zimbabwe</td>\n",
       "      <td>-20.000000</td>\n",
       "      <td>0.388889</td>\n",
       "      <td>30.000000</td>\n",
       "      <td>0.583333</td>\n",
       "      <td>2020-05-07</td>\n",
       "      <td>106</td>\n",
       "      <td>0.990654</td>\n",
       "      <td>34</td>\n",
       "      <td>4</td>\n",
       "      <td>5.0</td>\n",
       "    </tr>\n",
       "  </tbody>\n",
       "</table>\n",
       "<p>22684 rows × 11 columns</p>\n",
       "</div>"
      ],
      "text/plain": [
       "           Country/Region        Lat  Lat_norm       Long  Long_norm  \\\n",
       "0             Afghanistan  33.000000  0.683333  65.000000   0.680556   \n",
       "1                 Albania  41.153300  0.728629  20.168300   0.556023   \n",
       "2                 Algeria  28.033900  0.655744   1.659600   0.504610   \n",
       "3                 Andorra  42.506300  0.736146   1.521800   0.504227   \n",
       "4                  Angola -11.202700  0.437763  17.873900   0.549650   \n",
       "...                   ...        ...       ...        ...        ...   \n",
       "22679  West Bank and Gaza  31.952200  0.677512  35.233200   0.597870   \n",
       "22680      Western Sahara  24.215500  0.634531 -12.885800   0.464206   \n",
       "22681               Yemen  15.552727  0.586404  48.516388   0.634768   \n",
       "22682              Zambia -15.416700  0.414352  28.283300   0.578565   \n",
       "22683            Zimbabwe -20.000000  0.388889  30.000000   0.583333   \n",
       "\n",
       "             Date  Num_days_from_begin  Num_days_from_begin_norm  Confirmed  \\\n",
       "0      2020-01-22                    0                  0.000000          0   \n",
       "1      2020-01-22                    0                  0.000000          0   \n",
       "2      2020-01-22                    0                  0.000000          0   \n",
       "3      2020-01-22                    0                  0.000000          0   \n",
       "4      2020-01-22                    0                  0.000000          0   \n",
       "...           ...                  ...                       ...        ...   \n",
       "22679  2020-05-07                  106                  0.990654        375   \n",
       "22680  2020-05-07                  106                  0.990654          6   \n",
       "22681  2020-05-07                  106                  0.990654         25   \n",
       "22682  2020-05-07                  106                  0.990654        153   \n",
       "22683  2020-05-07                  106                  0.990654         34   \n",
       "\n",
       "       Deaths  Recovered  \n",
       "0           0        0.0  \n",
       "1           0        0.0  \n",
       "2           0        0.0  \n",
       "3           0        0.0  \n",
       "4           0        0.0  \n",
       "...       ...        ...  \n",
       "22679       2      176.0  \n",
       "22680       0        5.0  \n",
       "22681       5        1.0  \n",
       "22682       4      103.0  \n",
       "22683       4        5.0  \n",
       "\n",
       "[22684 rows x 11 columns]"
      ]
     },
     "execution_count": 82,
     "metadata": {},
     "output_type": "execute_result"
    }
   ],
   "source": [
    "# load previously processed information into dataframe\n",
    "df = pd.read_csv('data/covid_19_world_processed.csv', delimiter=',')\n",
    "df\n",
    "#df.loc[df[\"Lat_norm\"].isna() | df[\"Long_norm\"].isna() | df[\"Num_days_from_begin_norm\"].isna()]"
   ]
  },
  {
   "cell_type": "code",
   "execution_count": 83,
   "metadata": {},
   "outputs": [
    {
     "data": {
      "text/plain": [
       "(33.0, 65.0)"
      ]
     },
     "execution_count": 83,
     "metadata": {},
     "output_type": "execute_result"
    }
   ],
   "source": [
    "# define helper functions\n",
    "def get_coords_for_country(country):\n",
    "    country_row = df.loc[df[\"Country/Region\"] == country]\n",
    "    return country_row[\"Lat\"].unique()[0], country_row[\"Long\"].unique()[0]\n",
    "\n",
    "get_coords_for_country(\"Afghanistan\")"
   ]
  },
  {
   "cell_type": "code",
   "execution_count": 84,
   "metadata": {},
   "outputs": [
    {
     "data": {
      "text/plain": [
       "array([[0.683333, 0.680556, 0.      ],\n",
       "       [0.728629, 0.556023, 0.      ],\n",
       "       [0.655744, 0.50461 , 0.      ],\n",
       "       ...,\n",
       "       [0.586404, 0.634768, 0.990654],\n",
       "       [0.414352, 0.578565, 0.990654],\n",
       "       [0.388889, 0.583333, 0.990654]])"
      ]
     },
     "execution_count": 84,
     "metadata": {},
     "output_type": "execute_result"
    }
   ],
   "source": [
    "# get the inputs of the data for the machine learning algorithm\n",
    "inputs = df[[\"Lat_norm\", \"Long_norm\", \"Num_days_from_begin_norm\"]].values\n",
    "inputs"
   ]
  },
  {
   "cell_type": "markdown",
   "metadata": {},
   "source": [
    "#### 3.1.1) Regression for Confirmed Cases\n",
    "- - -"
   ]
  },
  {
   "cell_type": "code",
   "execution_count": 85,
   "metadata": {},
   "outputs": [
    {
     "data": {
      "text/plain": [
       "array([  0,   0,   0, ...,  25, 153,  34])"
      ]
     },
     "execution_count": 85,
     "metadata": {},
     "output_type": "execute_result"
    }
   ],
   "source": [
    "# get the output for the machine learning algorithm (confirmed cases)\n",
    "outputs = df[\"Confirmed\"].values\n",
    "outputs"
   ]
  },
  {
   "cell_type": "code",
   "execution_count": 86,
   "metadata": {},
   "outputs": [
    {
     "name": "stdout",
     "output_type": "stream",
     "text": [
      "False\n",
      "True\n",
      "False\n",
      "\n",
      "False\n",
      "True\n",
      "False\n"
     ]
    }
   ],
   "source": [
    "# split the data into training and testing sets\n",
    "in_conf_train, in_conf_test, out_conf_train, out_conf_test = train_test_split(inputs, outputs, test_size=0.25, shuffle=False)\n",
    "\n",
    "print(np.any(np.isnan(in_conf_train)))\n",
    "print(np.all(np.isfinite(in_conf_train)))\n",
    "print(np.any(in_conf_train >= np.finfo(np.float64).max))\n",
    "print()\n",
    "print(np.any(np.isnan(out_conf_train)))\n",
    "print(np.all(np.isfinite(out_conf_train)))\n",
    "print(np.any(out_conf_train >= np.finfo(np.float64).max))\n",
    "\n",
    "# NOTE: actually, the \"testing\" set will be used for \"manual\" testing and plotting, while the training set will be\n",
    "# further divided in training and testing sets, in order to perform k-fold cross validation."
   ]
  },
  {
   "cell_type": "code",
   "execution_count": 87,
   "metadata": {},
   "outputs": [
    {
     "data": {
      "text/plain": [
       "{'activation': 'relu',\n",
       " 'alpha': 0.0001,\n",
       " 'batch_size': 'auto',\n",
       " 'beta_1': 0.9,\n",
       " 'beta_2': 0.999,\n",
       " 'early_stopping': False,\n",
       " 'epsilon': 1e-08,\n",
       " 'hidden_layer_sizes': (100,),\n",
       " 'learning_rate': 'constant',\n",
       " 'learning_rate_init': 0.001,\n",
       " 'max_fun': 15000,\n",
       " 'max_iter': 200,\n",
       " 'momentum': 0.9,\n",
       " 'n_iter_no_change': 10,\n",
       " 'nesterovs_momentum': True,\n",
       " 'power_t': 0.5,\n",
       " 'random_state': None,\n",
       " 'shuffle': True,\n",
       " 'solver': 'adam',\n",
       " 'tol': 0.0001,\n",
       " 'validation_fraction': 0.1,\n",
       " 'verbose': False,\n",
       " 'warm_start': False}"
      ]
     },
     "execution_count": 87,
     "metadata": {},
     "output_type": "execute_result"
    }
   ],
   "source": [
    "mlp = MLPRegressor()\n",
    "mlp.get_params()"
   ]
  },
  {
   "cell_type": "code",
   "execution_count": 95,
   "metadata": {},
   "outputs": [],
   "source": [
    "# do hyper parameter tuning with the Multi-layer Perceptron, using cross validation\n",
    "param_grid = {\n",
    "    'hidden_layer_sizes': [(50,50,50), (50,100,50)],\n",
    "    'activation': ['tanh', 'relu'],\n",
    "    'solver': ['sgd', 'adam'],\n",
    "    'alpha': [0.0001, 0.05],\n",
    "    'learning_rate': ['constant','adaptive'],\n",
    "}\n",
    "\n",
    "#grid_search = GridSearchCV(estimator=mlp, param_grid=param_grid, n_jobs=-1, cv=3, verbose=2)\n",
    "#grid_search.fit(in_conf_train, out_conf_train)\n",
    "#print('Best score: {}'.format(grid_search.best_score_))\n",
    "#print('Best parameters: {}'.format(grid_search.best_params_))\n",
    "#grid_search.best_estimator_\n",
    "#mlp_estimator = grid_search.best_estimator_\n",
    "mlp_estimator = MLPRegressor(max_iter=1000000)"
   ]
  },
  {
   "cell_type": "code",
   "execution_count": 96,
   "metadata": {},
   "outputs": [
    {
     "name": "stdout",
     "output_type": "stream",
     "text": [
      "MAE: 13263.630368301825\n",
      "MSE: 4954740586.580073\n"
     ]
    },
    {
     "data": {
      "image/png": "[encoded data removed]",
      "text/plain": [
       "<Figure size 432x288 with 1 Axes>"
      ]
     },
     "metadata": {
      "needs_background": "light"
     },
     "output_type": "display_data"
    }
   ],
   "source": [
    "mlp_estimator.fit(in_conf_train, out_conf_train)\n",
    "mlp_estimator_pred = mlp_estimator.predict(in_conf_test)\n",
    "plt.plot(out_conf_test)\n",
    "plt.plot(mlp_estimator_pred)\n",
    "plt.legend(['Test Data', 'Multi-layer Perceptron Predictions'])\n",
    "print('MAE:', mean_absolute_error(out_conf_test, mlp_estimator_pred))\n",
    "print('MSE:', mean_squared_error(out_conf_test, mlp_estimator_pred))"
   ]
  },
  {
   "cell_type": "code",
   "execution_count": null,
   "metadata": {},
   "outputs": [],
   "source": []
  }
 ],
 "metadata": {
  "kernelspec": {
   "display_name": "Python 3",
   "language": "python",
   "name": "python3"
  },
  "language_info": {
   "codemirror_mode": {
    "name": "ipython",
    "version": 3
   },
   "file_extension": ".py",
   "mimetype": "text/x-python",
   "name": "python",
   "nbconvert_exporter": "python",
   "pygments_lexer": "ipython3",
   "version": "3.6.9"
  }
 },
 "nbformat": 4,
 "nbformat_minor": 4
}
